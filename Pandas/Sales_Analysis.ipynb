{
 "cells": [
  {
   "cell_type": "markdown",
   "metadata": {},
   "source": [
    "## Student Data Analysis"
   ]
  },
  {
   "cell_type": "code",
   "execution_count": 1,
   "metadata": {},
   "outputs": [],
   "source": [
    "#Importing Packages and setting up plot size\n",
    "\n",
    "import pandas as pd\n",
    "import missingno as msno\n",
    "import seaborn as sns\n",
    "import matplotlib.pyplot as plt\n",
    "%matplotlib inline\n",
    "plt.rcParams['figure.figsize'] = [4, 4]"
   ]
  },
  {
   "cell_type": "code",
   "execution_count": 2,
   "metadata": {},
   "outputs": [],
   "source": [
    "#Supressing Warnings\n",
    "import warnings\n",
    "warnings.filterwarnings('ignore')"
   ]
  },
  {
   "cell_type": "markdown",
   "metadata": {},
   "source": [
    "### Data Loading and Exploration"
   ]
  },
  {
   "cell_type": "code",
   "execution_count": 3,
   "metadata": {},
   "outputs": [
    {
     "data": {
      "text/html": [
       "<div>\n",
       "<style scoped>\n",
       "    .dataframe tbody tr th:only-of-type {\n",
       "        vertical-align: middle;\n",
       "    }\n",
       "\n",
       "    .dataframe tbody tr th {\n",
       "        vertical-align: top;\n",
       "    }\n",
       "\n",
       "    .dataframe thead th {\n",
       "        text-align: right;\n",
       "    }\n",
       "</style>\n",
       "<table border=\"1\" class=\"dataframe\">\n",
       "  <thead>\n",
       "    <tr style=\"text-align: right;\">\n",
       "      <th></th>\n",
       "      <th>Id</th>\n",
       "      <th>Name</th>\n",
       "      <th>Nationality</th>\n",
       "      <th>Gender</th>\n",
       "      <th>Age</th>\n",
       "      <th>English grade</th>\n",
       "      <th>Math grade</th>\n",
       "      <th>Sciences grade</th>\n",
       "      <th>Language grade</th>\n",
       "      <th>Portfolio Rating</th>\n",
       "    </tr>\n",
       "  </thead>\n",
       "  <tbody>\n",
       "    <tr>\n",
       "      <th>0</th>\n",
       "      <td>1</td>\n",
       "      <td>Kiana Lor</td>\n",
       "      <td>China</td>\n",
       "      <td>F</td>\n",
       "      <td>22.0</td>\n",
       "      <td>3.5</td>\n",
       "      <td>3.7</td>\n",
       "      <td>3.1</td>\n",
       "      <td>1.0</td>\n",
       "      <td>4.0</td>\n",
       "    </tr>\n",
       "    <tr>\n",
       "      <th>1</th>\n",
       "      <td>2</td>\n",
       "      <td>Joshua Lonaker</td>\n",
       "      <td>United States of America</td>\n",
       "      <td>M</td>\n",
       "      <td>22.0</td>\n",
       "      <td>2.9</td>\n",
       "      <td>3.2</td>\n",
       "      <td>3.6</td>\n",
       "      <td>5.0</td>\n",
       "      <td>5.0</td>\n",
       "    </tr>\n",
       "    <tr>\n",
       "      <th>2</th>\n",
       "      <td>3</td>\n",
       "      <td>Dakota Blanco</td>\n",
       "      <td>United States of America</td>\n",
       "      <td>F</td>\n",
       "      <td>22.0</td>\n",
       "      <td>3.9</td>\n",
       "      <td>3.8</td>\n",
       "      <td>3.2</td>\n",
       "      <td>5.0</td>\n",
       "      <td>3.0</td>\n",
       "    </tr>\n",
       "    <tr>\n",
       "      <th>3</th>\n",
       "      <td>4</td>\n",
       "      <td>Natasha Yarusso</td>\n",
       "      <td>United States of America</td>\n",
       "      <td>F</td>\n",
       "      <td>20.0</td>\n",
       "      <td>3.3</td>\n",
       "      <td>2.8</td>\n",
       "      <td>3.2</td>\n",
       "      <td>5.0</td>\n",
       "      <td>5.0</td>\n",
       "    </tr>\n",
       "    <tr>\n",
       "      <th>4</th>\n",
       "      <td>5</td>\n",
       "      <td>Brooke Cazares</td>\n",
       "      <td>Brazil</td>\n",
       "      <td>F</td>\n",
       "      <td>21.0</td>\n",
       "      <td>3.7</td>\n",
       "      <td>2.6</td>\n",
       "      <td>3.4</td>\n",
       "      <td>1.0</td>\n",
       "      <td>4.0</td>\n",
       "    </tr>\n",
       "  </tbody>\n",
       "</table>\n",
       "</div>"
      ],
      "text/plain": [
       "   Id             Name               Nationality Gender   Age  English grade  \\\n",
       "0   1        Kiana Lor                     China      F  22.0            3.5   \n",
       "1   2   Joshua Lonaker  United States of America      M  22.0            2.9   \n",
       "2   3    Dakota Blanco  United States of America      F  22.0            3.9   \n",
       "3   4  Natasha Yarusso  United States of America      F  20.0            3.3   \n",
       "4   5   Brooke Cazares                    Brazil      F  21.0            3.7   \n",
       "\n",
       "   Math grade  Sciences grade  Language grade  Portfolio Rating  \n",
       "0         3.7             3.1             1.0               4.0  \n",
       "1         3.2             3.6             5.0               5.0  \n",
       "2         3.8             3.2             5.0               3.0  \n",
       "3         2.8             3.2             5.0               5.0  \n",
       "4         2.6             3.4             1.0               4.0  "
      ]
     },
     "execution_count": 3,
     "metadata": {},
     "output_type": "execute_result"
    }
   ],
   "source": [
    "#Reading the CSV file\n",
    "student_data = pd.read_csv(r'C:\\Python Assignments\\Pandas\\Student Dataset.csv')\n",
    "#Checking the top 5 rows\n",
    "student_data.head()"
   ]
  },
  {
   "cell_type": "code",
   "execution_count": 4,
   "metadata": {},
   "outputs": [
    {
     "name": "stdout",
     "output_type": "stream",
     "text": [
      "<class 'pandas.core.frame.DataFrame'>\n",
      "RangeIndex: 307 entries, 0 to 306\n",
      "Data columns (total 10 columns):\n",
      " #   Column            Non-Null Count  Dtype  \n",
      "---  ------            --------------  -----  \n",
      " 0   Id                307 non-null    int64  \n",
      " 1   Name              307 non-null    object \n",
      " 2   Nationality       307 non-null    object \n",
      " 3   Gender            301 non-null    object \n",
      " 4   Age               306 non-null    float64\n",
      " 5   English grade     305 non-null    float64\n",
      " 6   Math grade        304 non-null    float64\n",
      " 7   Sciences grade    306 non-null    float64\n",
      " 8   Language grade    305 non-null    float64\n",
      " 9   Portfolio Rating  306 non-null    float64\n",
      "dtypes: float64(6), int64(1), object(3)\n",
      "memory usage: 24.1+ KB\n"
     ]
    }
   ],
   "source": [
    "#Cheking the data types fo the columns\n",
    "student_data.info()"
   ]
  },
  {
   "cell_type": "markdown",
   "metadata": {},
   "source": [
    "All the Data Types are correct and we can move on to furthur analysis \\\n",
    "Here Gender is Object but we can convert it to Categorical for analysis"
   ]
  },
  {
   "cell_type": "code",
   "execution_count": 5,
   "metadata": {},
   "outputs": [],
   "source": [
    "#Converting the datatype of gender to categorical\n",
    "student_data['Gender'] = student_data['Gender'].astype('category')"
   ]
  },
  {
   "cell_type": "code",
   "execution_count": 6,
   "metadata": {},
   "outputs": [
    {
     "name": "stdout",
     "output_type": "stream",
     "text": [
      "<class 'pandas.core.frame.DataFrame'>\n",
      "RangeIndex: 307 entries, 0 to 306\n",
      "Data columns (total 10 columns):\n",
      " #   Column            Non-Null Count  Dtype   \n",
      "---  ------            --------------  -----   \n",
      " 0   Id                307 non-null    int64   \n",
      " 1   Name              307 non-null    object  \n",
      " 2   Nationality       307 non-null    object  \n",
      " 3   Gender            301 non-null    category\n",
      " 4   Age               306 non-null    float64 \n",
      " 5   English grade     305 non-null    float64 \n",
      " 6   Math grade        304 non-null    float64 \n",
      " 7   Sciences grade    306 non-null    float64 \n",
      " 8   Language grade    305 non-null    float64 \n",
      " 9   Portfolio Rating  306 non-null    float64 \n",
      "dtypes: category(1), float64(6), int64(1), object(2)\n",
      "memory usage: 22.1+ KB\n"
     ]
    }
   ],
   "source": [
    "#checking the data type\n",
    "student_data.info()"
   ]
  },
  {
   "cell_type": "code",
   "execution_count": 7,
   "metadata": {},
   "outputs": [
    {
     "data": {
      "text/html": [
       "<div>\n",
       "<style scoped>\n",
       "    .dataframe tbody tr th:only-of-type {\n",
       "        vertical-align: middle;\n",
       "    }\n",
       "\n",
       "    .dataframe tbody tr th {\n",
       "        vertical-align: top;\n",
       "    }\n",
       "\n",
       "    .dataframe thead th {\n",
       "        text-align: right;\n",
       "    }\n",
       "</style>\n",
       "<table border=\"1\" class=\"dataframe\">\n",
       "  <thead>\n",
       "    <tr style=\"text-align: right;\">\n",
       "      <th></th>\n",
       "      <th>Id</th>\n",
       "      <th>Age</th>\n",
       "      <th>English grade</th>\n",
       "      <th>Math grade</th>\n",
       "      <th>Sciences grade</th>\n",
       "      <th>Language grade</th>\n",
       "      <th>Portfolio Rating</th>\n",
       "    </tr>\n",
       "  </thead>\n",
       "  <tbody>\n",
       "    <tr>\n",
       "      <th>count</th>\n",
       "      <td>307.000000</td>\n",
       "      <td>306.000000</td>\n",
       "      <td>305.000000</td>\n",
       "      <td>304.000000</td>\n",
       "      <td>306.000000</td>\n",
       "      <td>305.000000</td>\n",
       "      <td>306.000000</td>\n",
       "    </tr>\n",
       "    <tr>\n",
       "      <th>mean</th>\n",
       "      <td>154.000000</td>\n",
       "      <td>21.957516</td>\n",
       "      <td>3.373115</td>\n",
       "      <td>3.410526</td>\n",
       "      <td>3.445425</td>\n",
       "      <td>4.399016</td>\n",
       "      <td>3.983660</td>\n",
       "    </tr>\n",
       "    <tr>\n",
       "      <th>std</th>\n",
       "      <td>88.767487</td>\n",
       "      <td>1.244592</td>\n",
       "      <td>0.537598</td>\n",
       "      <td>0.477571</td>\n",
       "      <td>0.509511</td>\n",
       "      <td>0.995929</td>\n",
       "      <td>0.928454</td>\n",
       "    </tr>\n",
       "    <tr>\n",
       "      <th>min</th>\n",
       "      <td>1.000000</td>\n",
       "      <td>19.000000</td>\n",
       "      <td>1.500000</td>\n",
       "      <td>2.100000</td>\n",
       "      <td>1.400000</td>\n",
       "      <td>1.000000</td>\n",
       "      <td>1.000000</td>\n",
       "    </tr>\n",
       "    <tr>\n",
       "      <th>25%</th>\n",
       "      <td>77.500000</td>\n",
       "      <td>21.000000</td>\n",
       "      <td>3.100000</td>\n",
       "      <td>3.100000</td>\n",
       "      <td>3.200000</td>\n",
       "      <td>4.000000</td>\n",
       "      <td>3.250000</td>\n",
       "    </tr>\n",
       "    <tr>\n",
       "      <th>50%</th>\n",
       "      <td>154.000000</td>\n",
       "      <td>22.000000</td>\n",
       "      <td>3.500000</td>\n",
       "      <td>3.500000</td>\n",
       "      <td>3.600000</td>\n",
       "      <td>5.000000</td>\n",
       "      <td>4.000000</td>\n",
       "    </tr>\n",
       "    <tr>\n",
       "      <th>75%</th>\n",
       "      <td>230.500000</td>\n",
       "      <td>23.000000</td>\n",
       "      <td>3.800000</td>\n",
       "      <td>3.800000</td>\n",
       "      <td>3.800000</td>\n",
       "      <td>5.000000</td>\n",
       "      <td>5.000000</td>\n",
       "    </tr>\n",
       "    <tr>\n",
       "      <th>max</th>\n",
       "      <td>307.000000</td>\n",
       "      <td>26.000000</td>\n",
       "      <td>4.000000</td>\n",
       "      <td>4.000000</td>\n",
       "      <td>4.000000</td>\n",
       "      <td>5.000000</td>\n",
       "      <td>5.000000</td>\n",
       "    </tr>\n",
       "  </tbody>\n",
       "</table>\n",
       "</div>"
      ],
      "text/plain": [
       "               Id         Age  English grade  Math grade  Sciences grade  \\\n",
       "count  307.000000  306.000000     305.000000  304.000000      306.000000   \n",
       "mean   154.000000   21.957516       3.373115    3.410526        3.445425   \n",
       "std     88.767487    1.244592       0.537598    0.477571        0.509511   \n",
       "min      1.000000   19.000000       1.500000    2.100000        1.400000   \n",
       "25%     77.500000   21.000000       3.100000    3.100000        3.200000   \n",
       "50%    154.000000   22.000000       3.500000    3.500000        3.600000   \n",
       "75%    230.500000   23.000000       3.800000    3.800000        3.800000   \n",
       "max    307.000000   26.000000       4.000000    4.000000        4.000000   \n",
       "\n",
       "       Language grade  Portfolio Rating  \n",
       "count      305.000000        306.000000  \n",
       "mean         4.399016          3.983660  \n",
       "std          0.995929          0.928454  \n",
       "min          1.000000          1.000000  \n",
       "25%          4.000000          3.250000  \n",
       "50%          5.000000          4.000000  \n",
       "75%          5.000000          5.000000  \n",
       "max          5.000000          5.000000  "
      ]
     },
     "execution_count": 7,
     "metadata": {},
     "output_type": "execute_result"
    }
   ],
   "source": [
    "#Descriptive Statistics\n",
    "student_data.describe()"
   ]
  },
  {
   "cell_type": "markdown",
   "metadata": {},
   "source": [
    "For this student data analyis we dont need descriptive statistics so we can skip this"
   ]
  },
  {
   "cell_type": "markdown",
   "metadata": {},
   "source": [
    "#### Checking Missing Values"
   ]
  },
  {
   "cell_type": "code",
   "execution_count": 8,
   "metadata": {},
   "outputs": [
    {
     "data": {
      "text/plain": [
       "<Axes: >"
      ]
     },
     "execution_count": 8,
     "metadata": {},
     "output_type": "execute_result"
    },
    {
     "data": {
      "image/png": "[encoded data removed]",
      "text/plain": [
       "<Figure size 2500x1000 with 2 Axes>"
      ]
     },
     "metadata": {},
     "output_type": "display_data"
    }
   ],
   "source": [
    "msno.matrix(student_data)"
   ]
  },
  {
   "cell_type": "markdown",
   "metadata": {},
   "source": [
    "From the above matrix we can see that there are few missing values need to be taken care of"
   ]
  },
  {
   "cell_type": "code",
   "execution_count": 9,
   "metadata": {},
   "outputs": [
    {
     "data": {
      "text/html": [
       "<div>\n",
       "<style scoped>\n",
       "    .dataframe tbody tr th:only-of-type {\n",
       "        vertical-align: middle;\n",
       "    }\n",
       "\n",
       "    .dataframe tbody tr th {\n",
       "        vertical-align: top;\n",
       "    }\n",
       "\n",
       "    .dataframe thead th {\n",
       "        text-align: right;\n",
       "    }\n",
       "</style>\n",
       "<table border=\"1\" class=\"dataframe\">\n",
       "  <thead>\n",
       "    <tr style=\"text-align: right;\">\n",
       "      <th></th>\n",
       "      <th>Id</th>\n",
       "      <th>Name</th>\n",
       "      <th>Nationality</th>\n",
       "      <th>Gender</th>\n",
       "      <th>Age</th>\n",
       "      <th>English grade</th>\n",
       "      <th>Math grade</th>\n",
       "      <th>Sciences grade</th>\n",
       "      <th>Language grade</th>\n",
       "      <th>Portfolio Rating</th>\n",
       "    </tr>\n",
       "  </thead>\n",
       "  <tbody>\n",
       "    <tr>\n",
       "      <th>0</th>\n",
       "      <td>False</td>\n",
       "      <td>False</td>\n",
       "      <td>False</td>\n",
       "      <td>False</td>\n",
       "      <td>False</td>\n",
       "      <td>False</td>\n",
       "      <td>False</td>\n",
       "      <td>False</td>\n",
       "      <td>False</td>\n",
       "      <td>False</td>\n",
       "    </tr>\n",
       "    <tr>\n",
       "      <th>1</th>\n",
       "      <td>False</td>\n",
       "      <td>False</td>\n",
       "      <td>False</td>\n",
       "      <td>False</td>\n",
       "      <td>False</td>\n",
       "      <td>False</td>\n",
       "      <td>False</td>\n",
       "      <td>False</td>\n",
       "      <td>False</td>\n",
       "      <td>False</td>\n",
       "    </tr>\n",
       "    <tr>\n",
       "      <th>2</th>\n",
       "      <td>False</td>\n",
       "      <td>False</td>\n",
       "      <td>False</td>\n",
       "      <td>False</td>\n",
       "      <td>False</td>\n",
       "      <td>False</td>\n",
       "      <td>False</td>\n",
       "      <td>False</td>\n",
       "      <td>False</td>\n",
       "      <td>False</td>\n",
       "    </tr>\n",
       "    <tr>\n",
       "      <th>3</th>\n",
       "      <td>False</td>\n",
       "      <td>False</td>\n",
       "      <td>False</td>\n",
       "      <td>False</td>\n",
       "      <td>False</td>\n",
       "      <td>False</td>\n",
       "      <td>False</td>\n",
       "      <td>False</td>\n",
       "      <td>False</td>\n",
       "      <td>False</td>\n",
       "    </tr>\n",
       "    <tr>\n",
       "      <th>4</th>\n",
       "      <td>False</td>\n",
       "      <td>False</td>\n",
       "      <td>False</td>\n",
       "      <td>False</td>\n",
       "      <td>False</td>\n",
       "      <td>False</td>\n",
       "      <td>False</td>\n",
       "      <td>False</td>\n",
       "      <td>False</td>\n",
       "      <td>False</td>\n",
       "    </tr>\n",
       "    <tr>\n",
       "      <th>...</th>\n",
       "      <td>...</td>\n",
       "      <td>...</td>\n",
       "      <td>...</td>\n",
       "      <td>...</td>\n",
       "      <td>...</td>\n",
       "      <td>...</td>\n",
       "      <td>...</td>\n",
       "      <td>...</td>\n",
       "      <td>...</td>\n",
       "      <td>...</td>\n",
       "    </tr>\n",
       "    <tr>\n",
       "      <th>302</th>\n",
       "      <td>False</td>\n",
       "      <td>False</td>\n",
       "      <td>False</td>\n",
       "      <td>False</td>\n",
       "      <td>False</td>\n",
       "      <td>False</td>\n",
       "      <td>False</td>\n",
       "      <td>False</td>\n",
       "      <td>False</td>\n",
       "      <td>False</td>\n",
       "    </tr>\n",
       "    <tr>\n",
       "      <th>303</th>\n",
       "      <td>False</td>\n",
       "      <td>False</td>\n",
       "      <td>False</td>\n",
       "      <td>False</td>\n",
       "      <td>False</td>\n",
       "      <td>False</td>\n",
       "      <td>False</td>\n",
       "      <td>False</td>\n",
       "      <td>False</td>\n",
       "      <td>False</td>\n",
       "    </tr>\n",
       "    <tr>\n",
       "      <th>304</th>\n",
       "      <td>False</td>\n",
       "      <td>False</td>\n",
       "      <td>False</td>\n",
       "      <td>False</td>\n",
       "      <td>False</td>\n",
       "      <td>False</td>\n",
       "      <td>False</td>\n",
       "      <td>False</td>\n",
       "      <td>False</td>\n",
       "      <td>False</td>\n",
       "    </tr>\n",
       "    <tr>\n",
       "      <th>305</th>\n",
       "      <td>False</td>\n",
       "      <td>False</td>\n",
       "      <td>False</td>\n",
       "      <td>False</td>\n",
       "      <td>False</td>\n",
       "      <td>False</td>\n",
       "      <td>False</td>\n",
       "      <td>False</td>\n",
       "      <td>False</td>\n",
       "      <td>False</td>\n",
       "    </tr>\n",
       "    <tr>\n",
       "      <th>306</th>\n",
       "      <td>False</td>\n",
       "      <td>False</td>\n",
       "      <td>False</td>\n",
       "      <td>False</td>\n",
       "      <td>False</td>\n",
       "      <td>False</td>\n",
       "      <td>False</td>\n",
       "      <td>False</td>\n",
       "      <td>False</td>\n",
       "      <td>False</td>\n",
       "    </tr>\n",
       "  </tbody>\n",
       "</table>\n",
       "<p>307 rows × 10 columns</p>\n",
       "</div>"
      ],
      "text/plain": [
       "        Id   Name  Nationality  Gender    Age  English grade  Math grade  \\\n",
       "0    False  False        False   False  False          False       False   \n",
       "1    False  False        False   False  False          False       False   \n",
       "2    False  False        False   False  False          False       False   \n",
       "3    False  False        False   False  False          False       False   \n",
       "4    False  False        False   False  False          False       False   \n",
       "..     ...    ...          ...     ...    ...            ...         ...   \n",
       "302  False  False        False   False  False          False       False   \n",
       "303  False  False        False   False  False          False       False   \n",
       "304  False  False        False   False  False          False       False   \n",
       "305  False  False        False   False  False          False       False   \n",
       "306  False  False        False   False  False          False       False   \n",
       "\n",
       "     Sciences grade  Language grade  Portfolio Rating  \n",
       "0             False           False             False  \n",
       "1             False           False             False  \n",
       "2             False           False             False  \n",
       "3             False           False             False  \n",
       "4             False           False             False  \n",
       "..              ...             ...               ...  \n",
       "302           False           False             False  \n",
       "303           False           False             False  \n",
       "304           False           False             False  \n",
       "305           False           False             False  \n",
       "306           False           False             False  \n",
       "\n",
       "[307 rows x 10 columns]"
      ]
     },
     "execution_count": 9,
     "metadata": {},
     "output_type": "execute_result"
    }
   ],
   "source": [
    "student_data.isnull()"
   ]
  },
  {
   "cell_type": "code",
   "execution_count": 10,
   "metadata": {},
   "outputs": [
    {
     "data": {
      "text/plain": [
       "Id                  0.00\n",
       "Name                0.00\n",
       "Nationality         0.00\n",
       "Gender              1.95\n",
       "Age                 0.33\n",
       "English grade       0.65\n",
       "Math grade          0.98\n",
       "Sciences grade      0.33\n",
       "Language grade      0.65\n",
       "Portfolio Rating    0.33\n",
       "dtype: float64"
      ]
     },
     "execution_count": 10,
     "metadata": {},
     "output_type": "execute_result"
    }
   ],
   "source": [
    "round(student_data.isnull().sum() / student_data.shape[0] * 100.00,2)"
   ]
  },
  {
   "cell_type": "markdown",
   "metadata": {},
   "source": [
    "The columns Gender, Age, English grade, Math grade, Sciences grade, Language grade, Portfolio Rating have null values. \\\n",
    "The null value percentage are so small we can ignore it."
   ]
  },
  {
   "cell_type": "code",
   "execution_count": 11,
   "metadata": {},
   "outputs": [],
   "source": [
    "# Creating a new column for the overall GPA\n",
    "student_data['GPA'] = student_data['English grade'] + student_data['Math grade'] + student_data['Sciences grade'] + student_data['Language grade']\n",
    "student_data['GPA'] = round(student_data['GPA'] / 4,1)"
   ]
  },
  {
   "cell_type": "code",
   "execution_count": 12,
   "metadata": {},
   "outputs": [
    {
     "data": {
      "text/html": [
       "<div>\n",
       "<style scoped>\n",
       "    .dataframe tbody tr th:only-of-type {\n",
       "        vertical-align: middle;\n",
       "    }\n",
       "\n",
       "    .dataframe tbody tr th {\n",
       "        vertical-align: top;\n",
       "    }\n",
       "\n",
       "    .dataframe thead th {\n",
       "        text-align: right;\n",
       "    }\n",
       "</style>\n",
       "<table border=\"1\" class=\"dataframe\">\n",
       "  <thead>\n",
       "    <tr style=\"text-align: right;\">\n",
       "      <th></th>\n",
       "      <th>Id</th>\n",
       "      <th>Name</th>\n",
       "      <th>Nationality</th>\n",
       "      <th>Gender</th>\n",
       "      <th>Age</th>\n",
       "      <th>English grade</th>\n",
       "      <th>Math grade</th>\n",
       "      <th>Sciences grade</th>\n",
       "      <th>Language grade</th>\n",
       "      <th>Portfolio Rating</th>\n",
       "      <th>GPA</th>\n",
       "    </tr>\n",
       "  </thead>\n",
       "  <tbody>\n",
       "    <tr>\n",
       "      <th>0</th>\n",
       "      <td>1</td>\n",
       "      <td>Kiana Lor</td>\n",
       "      <td>China</td>\n",
       "      <td>F</td>\n",
       "      <td>22.0</td>\n",
       "      <td>3.5</td>\n",
       "      <td>3.7</td>\n",
       "      <td>3.1</td>\n",
       "      <td>1.0</td>\n",
       "      <td>4.0</td>\n",
       "      <td>2.8</td>\n",
       "    </tr>\n",
       "    <tr>\n",
       "      <th>1</th>\n",
       "      <td>2</td>\n",
       "      <td>Joshua Lonaker</td>\n",
       "      <td>United States of America</td>\n",
       "      <td>M</td>\n",
       "      <td>22.0</td>\n",
       "      <td>2.9</td>\n",
       "      <td>3.2</td>\n",
       "      <td>3.6</td>\n",
       "      <td>5.0</td>\n",
       "      <td>5.0</td>\n",
       "      <td>3.7</td>\n",
       "    </tr>\n",
       "    <tr>\n",
       "      <th>2</th>\n",
       "      <td>3</td>\n",
       "      <td>Dakota Blanco</td>\n",
       "      <td>United States of America</td>\n",
       "      <td>F</td>\n",
       "      <td>22.0</td>\n",
       "      <td>3.9</td>\n",
       "      <td>3.8</td>\n",
       "      <td>3.2</td>\n",
       "      <td>5.0</td>\n",
       "      <td>3.0</td>\n",
       "      <td>4.0</td>\n",
       "    </tr>\n",
       "    <tr>\n",
       "      <th>3</th>\n",
       "      <td>4</td>\n",
       "      <td>Natasha Yarusso</td>\n",
       "      <td>United States of America</td>\n",
       "      <td>F</td>\n",
       "      <td>20.0</td>\n",
       "      <td>3.3</td>\n",
       "      <td>2.8</td>\n",
       "      <td>3.2</td>\n",
       "      <td>5.0</td>\n",
       "      <td>5.0</td>\n",
       "      <td>3.6</td>\n",
       "    </tr>\n",
       "    <tr>\n",
       "      <th>4</th>\n",
       "      <td>5</td>\n",
       "      <td>Brooke Cazares</td>\n",
       "      <td>Brazil</td>\n",
       "      <td>F</td>\n",
       "      <td>21.0</td>\n",
       "      <td>3.7</td>\n",
       "      <td>2.6</td>\n",
       "      <td>3.4</td>\n",
       "      <td>1.0</td>\n",
       "      <td>4.0</td>\n",
       "      <td>2.7</td>\n",
       "    </tr>\n",
       "  </tbody>\n",
       "</table>\n",
       "</div>"
      ],
      "text/plain": [
       "   Id             Name               Nationality Gender   Age  English grade  \\\n",
       "0   1        Kiana Lor                     China      F  22.0            3.5   \n",
       "1   2   Joshua Lonaker  United States of America      M  22.0            2.9   \n",
       "2   3    Dakota Blanco  United States of America      F  22.0            3.9   \n",
       "3   4  Natasha Yarusso  United States of America      F  20.0            3.3   \n",
       "4   5   Brooke Cazares                    Brazil      F  21.0            3.7   \n",
       "\n",
       "   Math grade  Sciences grade  Language grade  Portfolio Rating  GPA  \n",
       "0         3.7             3.1             1.0               4.0  2.8  \n",
       "1         3.2             3.6             5.0               5.0  3.7  \n",
       "2         3.8             3.2             5.0               3.0  4.0  \n",
       "3         2.8             3.2             5.0               5.0  3.6  \n",
       "4         2.6             3.4             1.0               4.0  2.7  "
      ]
     },
     "execution_count": 12,
     "metadata": {},
     "output_type": "execute_result"
    }
   ],
   "source": [
    "#Displaying the top 5 rows\n",
    "student_data.head()"
   ]
  },
  {
   "cell_type": "markdown",
   "metadata": {},
   "source": [
    "#### Male Student Analysis"
   ]
  },
  {
   "cell_type": "code",
   "execution_count": 13,
   "metadata": {},
   "outputs": [
    {
     "name": "stdout",
     "output_type": "stream",
     "text": [
      "There are \u001b[1m149\u001b[0m Male Students\n"
     ]
    }
   ],
   "source": [
    "#The Number of Male Students\n",
    "male = student_data[student_data['Gender'] == 'M']\n",
    "print(f'There are \\033[1m{len(male)}\\033[0m Male Students')"
   ]
  },
  {
   "cell_type": "code",
   "execution_count": 14,
   "metadata": {},
   "outputs": [
    {
     "data": {
      "text/html": [
       "<div>\n",
       "<style scoped>\n",
       "    .dataframe tbody tr th:only-of-type {\n",
       "        vertical-align: middle;\n",
       "    }\n",
       "\n",
       "    .dataframe tbody tr th {\n",
       "        vertical-align: top;\n",
       "    }\n",
       "\n",
       "    .dataframe thead th {\n",
       "        text-align: right;\n",
       "    }\n",
       "</style>\n",
       "<table border=\"1\" class=\"dataframe\">\n",
       "  <thead>\n",
       "    <tr style=\"text-align: right;\">\n",
       "      <th></th>\n",
       "      <th>Id</th>\n",
       "      <th>Name</th>\n",
       "      <th>Nationality</th>\n",
       "      <th>Gender</th>\n",
       "      <th>Age</th>\n",
       "      <th>English grade</th>\n",
       "      <th>Math grade</th>\n",
       "      <th>Sciences grade</th>\n",
       "      <th>Language grade</th>\n",
       "      <th>Portfolio Rating</th>\n",
       "      <th>GPA</th>\n",
       "    </tr>\n",
       "  </thead>\n",
       "  <tbody>\n",
       "    <tr>\n",
       "      <th>1</th>\n",
       "      <td>2</td>\n",
       "      <td>Joshua Lonaker</td>\n",
       "      <td>United States of America</td>\n",
       "      <td>M</td>\n",
       "      <td>22.0</td>\n",
       "      <td>2.9</td>\n",
       "      <td>3.2</td>\n",
       "      <td>3.6</td>\n",
       "      <td>5.0</td>\n",
       "      <td>5.0</td>\n",
       "      <td>3.7</td>\n",
       "    </tr>\n",
       "    <tr>\n",
       "      <th>6</th>\n",
       "      <td>7</td>\n",
       "      <td>Joey Abreu</td>\n",
       "      <td>China</td>\n",
       "      <td>M</td>\n",
       "      <td>22.0</td>\n",
       "      <td>3.7</td>\n",
       "      <td>3.9</td>\n",
       "      <td>3.6</td>\n",
       "      <td>2.0</td>\n",
       "      <td>5.0</td>\n",
       "      <td>3.3</td>\n",
       "    </tr>\n",
       "    <tr>\n",
       "      <th>7</th>\n",
       "      <td>8</td>\n",
       "      <td>Preston Suarez</td>\n",
       "      <td>Brazil</td>\n",
       "      <td>M</td>\n",
       "      <td>22.0</td>\n",
       "      <td>3.8</td>\n",
       "      <td>3.7</td>\n",
       "      <td>3.6</td>\n",
       "      <td>2.0</td>\n",
       "      <td>5.0</td>\n",
       "      <td>3.3</td>\n",
       "    </tr>\n",
       "    <tr>\n",
       "      <th>9</th>\n",
       "      <td>10</td>\n",
       "      <td>Maa'iz al-Dia</td>\n",
       "      <td>Turkey</td>\n",
       "      <td>M</td>\n",
       "      <td>22.0</td>\n",
       "      <td>NaN</td>\n",
       "      <td>2.8</td>\n",
       "      <td>3.8</td>\n",
       "      <td>3.0</td>\n",
       "      <td>5.0</td>\n",
       "      <td>NaN</td>\n",
       "    </tr>\n",
       "    <tr>\n",
       "      <th>12</th>\n",
       "      <td>13</td>\n",
       "      <td>Alexander Sherman</td>\n",
       "      <td>United States of America</td>\n",
       "      <td>M</td>\n",
       "      <td>20.0</td>\n",
       "      <td>3.8</td>\n",
       "      <td>3.6</td>\n",
       "      <td>3.9</td>\n",
       "      <td>5.0</td>\n",
       "      <td>4.0</td>\n",
       "      <td>4.1</td>\n",
       "    </tr>\n",
       "  </tbody>\n",
       "</table>\n",
       "</div>"
      ],
      "text/plain": [
       "    Id               Name               Nationality Gender   Age  \\\n",
       "1    2     Joshua Lonaker  United States of America      M  22.0   \n",
       "6    7         Joey Abreu                     China      M  22.0   \n",
       "7    8     Preston Suarez                    Brazil      M  22.0   \n",
       "9   10      Maa'iz al-Dia                    Turkey      M  22.0   \n",
       "12  13  Alexander Sherman  United States of America      M  20.0   \n",
       "\n",
       "    English grade  Math grade  Sciences grade  Language grade  \\\n",
       "1             2.9         3.2             3.6             5.0   \n",
       "6             3.7         3.9             3.6             2.0   \n",
       "7             3.8         3.7             3.6             2.0   \n",
       "9             NaN         2.8             3.8             3.0   \n",
       "12            3.8         3.6             3.9             5.0   \n",
       "\n",
       "    Portfolio Rating  GPA  \n",
       "1                5.0  3.7  \n",
       "6                5.0  3.3  \n",
       "7                5.0  3.3  \n",
       "9                5.0  NaN  \n",
       "12               4.0  4.1  "
      ]
     },
     "execution_count": 14,
     "metadata": {},
     "output_type": "execute_result"
    }
   ],
   "source": [
    "#First 5 rows in male dataframe\n",
    "male.head()"
   ]
  },
  {
   "cell_type": "code",
   "execution_count": 15,
   "metadata": {},
   "outputs": [
    {
     "name": "stdout",
     "output_type": "stream",
     "text": [
      "The Student who got the highest English Grade is \u001b[1m'Gareth Newkirk'\u001b[0m,The Grade of the Student is \u001b[1m'4.0'\u001b[0m\n",
      "The Student who got the highest English Grade is \u001b[1m'Andrew Bishop'\u001b[0m,The Grade of the Student is \u001b[1m'4.0'\u001b[0m\n",
      "The Student who got the highest English Grade is \u001b[1m'Joshua Mesan'\u001b[0m,The Grade of the Student is \u001b[1m'4.0'\u001b[0m\n",
      "The Student who got the highest English Grade is \u001b[1m'Troy White'\u001b[0m,The Grade of the Student is \u001b[1m'4.0'\u001b[0m\n",
      "The Student who got the highest English Grade is \u001b[1m'Tyler Kibel'\u001b[0m,The Grade of the Student is \u001b[1m'4.0'\u001b[0m\n",
      "The Student who got the highest English Grade is \u001b[1m'Bryant Ronquillo'\u001b[0m,The Grade of the Student is \u001b[1m'4.0'\u001b[0m\n",
      "The Student who got the highest English Grade is \u001b[1m'Garrett Heim'\u001b[0m,The Grade of the Student is \u001b[1m'4.0'\u001b[0m\n",
      "The Student who got the highest English Grade is \u001b[1m'Blake Loughran'\u001b[0m,The Grade of the Student is \u001b[1m'4.0'\u001b[0m\n",
      "The Student who got the highest English Grade is \u001b[1m'Michael Griffin'\u001b[0m,The Grade of the Student is \u001b[1m'4.0'\u001b[0m\n"
     ]
    }
   ],
   "source": [
    "#The highest score in English by a male student is \n",
    "top_eng = male['English grade'].max()\n",
    "eng_male = male.loc[male['English grade'] == top_eng, ['Name','English grade']]\n",
    "li_eng = eng_male.values.tolist()\n",
    "for i in range(eng_male.shape[0]):\n",
    "    for j in range(eng_male.shape[1]):\n",
    "        if isinstance(li_eng[i][j], str):\n",
    "            print(f\"The Student who got the highest English Grade is \\033[1m'{li_eng[i][j]}'\\033[0m,\", end ='')\n",
    "        else:\n",
    "            print(f\"The Grade of the Student is \\033[1m'{li_eng[i][j]}'\\033[0m\")"
   ]
  },
  {
   "cell_type": "code",
   "execution_count": 16,
   "metadata": {},
   "outputs": [
    {
     "name": "stdout",
     "output_type": "stream",
     "text": [
      "The Student who got the highest Math Grade is \u001b[1m'Colin Lemont'\u001b[0m,The Grade of the Student is \u001b[1m'4.0'\u001b[0m\n",
      "The Student who got the highest Math Grade is \u001b[1m'Wesley Nunn'\u001b[0m,The Grade of the Student is \u001b[1m'4.0'\u001b[0m\n",
      "The Student who got the highest Math Grade is \u001b[1m'Coleman Keelen'\u001b[0m,The Grade of the Student is \u001b[1m'4.0'\u001b[0m\n",
      "The Student who got the highest Math Grade is \u001b[1m'Surya Ky'\u001b[0m,The Grade of the Student is \u001b[1m'4.0'\u001b[0m\n",
      "The Student who got the highest Math Grade is \u001b[1m'Billy Jack Bestle'\u001b[0m,The Grade of the Student is \u001b[1m'4.0'\u001b[0m\n",
      "The Student who got the highest Math Grade is \u001b[1m'Kyler Overboe'\u001b[0m,The Grade of the Student is \u001b[1m'4.0'\u001b[0m\n",
      "The Student who got the highest Math Grade is \u001b[1m'Anthony Mcdevitt'\u001b[0m,The Grade of the Student is \u001b[1m'4.0'\u001b[0m\n",
      "The Student who got the highest Math Grade is \u001b[1m'Joseph Hazelton'\u001b[0m,The Grade of the Student is \u001b[1m'4.0'\u001b[0m\n",
      "The Student who got the highest Math Grade is \u001b[1m'Branden Cantrell'\u001b[0m,The Grade of the Student is \u001b[1m'4.0'\u001b[0m\n",
      "The Student who got the highest Math Grade is \u001b[1m'Logan Nighswonger'\u001b[0m,The Grade of the Student is \u001b[1m'4.0'\u001b[0m\n",
      "The Student who got the highest Math Grade is \u001b[1m'Michael Griffin'\u001b[0m,The Grade of the Student is \u001b[1m'4.0'\u001b[0m\n",
      "The Student who got the highest Math Grade is \u001b[1m'Matthew Obourn'\u001b[0m,The Grade of the Student is \u001b[1m'4.0'\u001b[0m\n"
     ]
    }
   ],
   "source": [
    "#The highest score in Math by a male student is \n",
    "top_math = male['Math grade'].max()\n",
    "math_male = male.loc[male['Math grade'] == top_math, ['Name','Math grade']]\n",
    "li_math = math_male.values.tolist()\n",
    "for i in range(math_male.shape[0]):\n",
    "    for j in range(math_male.shape[1]):\n",
    "        if isinstance(li_math[i][j], str):\n",
    "            print(f\"The Student who got the highest Math Grade is \\033[1m'{li_math[i][j]}'\\033[0m,\", end ='')\n",
    "        else:\n",
    "            print(f\"The Grade of the Student is \\033[1m'{li_math[i][j]}'\\033[0m\")"
   ]
  },
  {
   "cell_type": "code",
   "execution_count": 17,
   "metadata": {},
   "outputs": [
    {
     "name": "stdout",
     "output_type": "stream",
     "text": [
      "The Student who got the highest Science Grade is \u001b[1m'Edgar Sanchez'\u001b[0m, The Grade of the Student is \u001b[1m'4.0'\u001b[0m\n",
      "The Student who got the highest Science Grade is \u001b[1m'David Pulc'\u001b[0m, The Grade of the Student is \u001b[1m'4.0'\u001b[0m\n",
      "The Student who got the highest Science Grade is \u001b[1m'Connor Ferry'\u001b[0m, The Grade of the Student is \u001b[1m'4.0'\u001b[0m\n",
      "The Student who got the highest Science Grade is \u001b[1m'Ibrahim al-Sawaya'\u001b[0m, The Grade of the Student is \u001b[1m'4.0'\u001b[0m\n",
      "The Student who got the highest Science Grade is \u001b[1m'Jason Hundsdorfer'\u001b[0m, The Grade of the Student is \u001b[1m'4.0'\u001b[0m\n",
      "The Student who got the highest Science Grade is \u001b[1m'Ryan Barrett'\u001b[0m, The Grade of the Student is \u001b[1m'4.0'\u001b[0m\n",
      "The Student who got the highest Science Grade is \u001b[1m'Alexander Swearingen'\u001b[0m, The Grade of the Student is \u001b[1m'4.0'\u001b[0m\n",
      "The Student who got the highest Science Grade is \u001b[1m'Kaden Yates'\u001b[0m, The Grade of the Student is \u001b[1m'4.0'\u001b[0m\n",
      "The Student who got the highest Science Grade is \u001b[1m'George Mann'\u001b[0m, The Grade of the Student is \u001b[1m'4.0'\u001b[0m\n",
      "The Student who got the highest Science Grade is \u001b[1m'Andrew Brunelli'\u001b[0m, The Grade of the Student is \u001b[1m'4.0'\u001b[0m\n",
      "The Student who got the highest Science Grade is \u001b[1m'Felipe Martinez Acosta'\u001b[0m, The Grade of the Student is \u001b[1m'4.0'\u001b[0m\n",
      "The Student who got the highest Science Grade is \u001b[1m'Asad el-Yacoub'\u001b[0m, The Grade of the Student is \u001b[1m'4.0'\u001b[0m\n",
      "The Student who got the highest Science Grade is \u001b[1m'Kyler Grieshaber'\u001b[0m, The Grade of the Student is \u001b[1m'4.0'\u001b[0m\n",
      "The Student who got the highest Science Grade is \u001b[1m'Anthony Visocsky'\u001b[0m, The Grade of the Student is \u001b[1m'4.0'\u001b[0m\n",
      "The Student who got the highest Science Grade is \u001b[1m'Matthew Sputh'\u001b[0m, The Grade of the Student is \u001b[1m'4.0'\u001b[0m\n",
      "The Student who got the highest Science Grade is \u001b[1m'Michael Griffin'\u001b[0m, The Grade of the Student is \u001b[1m'4.0'\u001b[0m\n",
      "The Student who got the highest Science Grade is \u001b[1m'Chad Klemp'\u001b[0m, The Grade of the Student is \u001b[1m'4.0'\u001b[0m\n",
      "The Student who got the highest Science Grade is \u001b[1m'Dane Whittemore'\u001b[0m, The Grade of the Student is \u001b[1m'4.0'\u001b[0m\n"
     ]
    }
   ],
   "source": [
    "#The highest score in Science by a male student is \n",
    "top_sci = male['Sciences grade'].max()\n",
    "sci_male = male.loc[male['Sciences grade'] == top_sci, ['Name','Sciences grade']]\n",
    "li_sci = sci_male.values.tolist()\n",
    "for i in range(sci_male.shape[0]):\n",
    "    for j in range(sci_male.shape[1]):\n",
    "        if isinstance(li_sci[i][j], str):\n",
    "            print(f\"The Student who got the highest Science Grade is \\033[1m'{li_sci[i][j]}'\\033[0m, \", end ='')\n",
    "        else:\n",
    "            print(f\"The Grade of the Student is \\033[1m'{li_sci[i][j]}'\\033[0m\")"
   ]
  },
  {
   "cell_type": "code",
   "execution_count": 18,
   "metadata": {},
   "outputs": [
    {
     "name": "stdout",
     "output_type": "stream",
     "text": [
      "The Student who got the highest Language Grade is \u001b[1m'Joshua Lonaker'\u001b[0m, The Grade of the Student is \u001b[1m'5.0'\u001b[0m\n",
      "The Student who got the highest Language Grade is \u001b[1m'Alexander Sherman'\u001b[0m, The Grade of the Student is \u001b[1m'5.0'\u001b[0m\n",
      "The Student who got the highest Language Grade is \u001b[1m'Kolbi Strunk'\u001b[0m, The Grade of the Student is \u001b[1m'5.0'\u001b[0m\n",
      "The Student who got the highest Language Grade is \u001b[1m'Kyle Luckey'\u001b[0m, The Grade of the Student is \u001b[1m'5.0'\u001b[0m\n",
      "The Student who got the highest Language Grade is \u001b[1m'Brandon Barbour'\u001b[0m, The Grade of the Student is \u001b[1m'5.0'\u001b[0m\n",
      "The Student who got the highest Language Grade is \u001b[1m'Michael Benson'\u001b[0m, The Grade of the Student is \u001b[1m'5.0'\u001b[0m\n",
      "The Student who got the highest Language Grade is \u001b[1m'Sean Rozga'\u001b[0m, The Grade of the Student is \u001b[1m'5.0'\u001b[0m\n",
      "The Student who got the highest Language Grade is \u001b[1m'Cody Vermeylen'\u001b[0m, The Grade of the Student is \u001b[1m'5.0'\u001b[0m\n",
      "The Student who got the highest Language Grade is \u001b[1m'Joshua Galloway'\u001b[0m, The Grade of the Student is \u001b[1m'5.0'\u001b[0m\n",
      "The Student who got the highest Language Grade is \u001b[1m'Sidney Beavers'\u001b[0m, The Grade of the Student is \u001b[1m'5.0'\u001b[0m\n",
      "The Student who got the highest Language Grade is \u001b[1m'Connor Ferry'\u001b[0m, The Grade of the Student is \u001b[1m'5.0'\u001b[0m\n",
      "The Student who got the highest Language Grade is \u001b[1m'Cameron Steinberg'\u001b[0m, The Grade of the Student is \u001b[1m'5.0'\u001b[0m\n",
      "The Student who got the highest Language Grade is \u001b[1m'Donald Nevins'\u001b[0m, The Grade of the Student is \u001b[1m'5.0'\u001b[0m\n",
      "The Student who got the highest Language Grade is \u001b[1m'Joseph Smith'\u001b[0m, The Grade of the Student is \u001b[1m'5.0'\u001b[0m\n",
      "The Student who got the highest Language Grade is \u001b[1m'Joseph Snider'\u001b[0m, The Grade of the Student is \u001b[1m'5.0'\u001b[0m\n",
      "The Student who got the highest Language Grade is \u001b[1m'Sean Tegtman'\u001b[0m, The Grade of the Student is \u001b[1m'5.0'\u001b[0m\n",
      "The Student who got the highest Language Grade is \u001b[1m'Casey Vanden Bos'\u001b[0m, The Grade of the Student is \u001b[1m'5.0'\u001b[0m\n",
      "The Student who got the highest Language Grade is \u001b[1m'Luke Davey'\u001b[0m, The Grade of the Student is \u001b[1m'5.0'\u001b[0m\n",
      "The Student who got the highest Language Grade is \u001b[1m'Myles Vaught'\u001b[0m, The Grade of the Student is \u001b[1m'5.0'\u001b[0m\n",
      "The Student who got the highest Language Grade is \u001b[1m'Bradley Monsell'\u001b[0m, The Grade of the Student is \u001b[1m'5.0'\u001b[0m\n",
      "The Student who got the highest Language Grade is \u001b[1m'Jason Hundsdorfer'\u001b[0m, The Grade of the Student is \u001b[1m'5.0'\u001b[0m\n",
      "The Student who got the highest Language Grade is \u001b[1m'Duncan Kruse'\u001b[0m, The Grade of the Student is \u001b[1m'5.0'\u001b[0m\n",
      "The Student who got the highest Language Grade is \u001b[1m'Callahan Foster'\u001b[0m, The Grade of the Student is \u001b[1m'5.0'\u001b[0m\n",
      "The Student who got the highest Language Grade is \u001b[1m'Ryan Barrett'\u001b[0m, The Grade of the Student is \u001b[1m'5.0'\u001b[0m\n",
      "The Student who got the highest Language Grade is \u001b[1m'Samuel Palmer'\u001b[0m, The Grade of the Student is \u001b[1m'5.0'\u001b[0m\n",
      "The Student who got the highest Language Grade is \u001b[1m'Riley Mcloughlin'\u001b[0m, The Grade of the Student is \u001b[1m'5.0'\u001b[0m\n",
      "The Student who got the highest Language Grade is \u001b[1m'Bryce Vaillancourt'\u001b[0m, The Grade of the Student is \u001b[1m'5.0'\u001b[0m\n",
      "The Student who got the highest Language Grade is \u001b[1m'Konner Gearhart'\u001b[0m, The Grade of the Student is \u001b[1m'5.0'\u001b[0m\n",
      "The Student who got the highest Language Grade is \u001b[1m'Andrew Houghton'\u001b[0m, The Grade of the Student is \u001b[1m'5.0'\u001b[0m\n",
      "The Student who got the highest Language Grade is \u001b[1m'James Rice'\u001b[0m, The Grade of the Student is \u001b[1m'5.0'\u001b[0m\n",
      "The Student who got the highest Language Grade is \u001b[1m'Wesley Nunn'\u001b[0m, The Grade of the Student is \u001b[1m'5.0'\u001b[0m\n",
      "The Student who got the highest Language Grade is \u001b[1m'Gareth Newkirk'\u001b[0m, The Grade of the Student is \u001b[1m'5.0'\u001b[0m\n",
      "The Student who got the highest Language Grade is \u001b[1m'Austin Harline'\u001b[0m, The Grade of the Student is \u001b[1m'5.0'\u001b[0m\n",
      "The Student who got the highest Language Grade is \u001b[1m'Alexander Swearingen'\u001b[0m, The Grade of the Student is \u001b[1m'5.0'\u001b[0m\n",
      "The Student who got the highest Language Grade is \u001b[1m'Casey Buhr'\u001b[0m, The Grade of the Student is \u001b[1m'5.0'\u001b[0m\n",
      "The Student who got the highest Language Grade is \u001b[1m'Andrew Kirin'\u001b[0m, The Grade of the Student is \u001b[1m'5.0'\u001b[0m\n",
      "The Student who got the highest Language Grade is \u001b[1m'Kevin Curry'\u001b[0m, The Grade of the Student is \u001b[1m'5.0'\u001b[0m\n",
      "The Student who got the highest Language Grade is \u001b[1m'Charles Cramer'\u001b[0m, The Grade of the Student is \u001b[1m'5.0'\u001b[0m\n",
      "The Student who got the highest Language Grade is \u001b[1m'Vincent Webster'\u001b[0m, The Grade of the Student is \u001b[1m'5.0'\u001b[0m\n",
      "The Student who got the highest Language Grade is \u001b[1m'Patrick Carnes'\u001b[0m, The Grade of the Student is \u001b[1m'5.0'\u001b[0m\n",
      "The Student who got the highest Language Grade is \u001b[1m'Shawn O Bryan'\u001b[0m, The Grade of the Student is \u001b[1m'5.0'\u001b[0m\n",
      "The Student who got the highest Language Grade is \u001b[1m'Daniel Spurlin'\u001b[0m, The Grade of the Student is \u001b[1m'5.0'\u001b[0m\n",
      "The Student who got the highest Language Grade is \u001b[1m'Trevor Bulba'\u001b[0m, The Grade of the Student is \u001b[1m'5.0'\u001b[0m\n",
      "The Student who got the highest Language Grade is \u001b[1m'Christopher Jacobo'\u001b[0m, The Grade of the Student is \u001b[1m'5.0'\u001b[0m\n",
      "The Student who got the highest Language Grade is \u001b[1m'Alexander Reed'\u001b[0m, The Grade of the Student is \u001b[1m'5.0'\u001b[0m\n",
      "The Student who got the highest Language Grade is \u001b[1m'Kaden Yates'\u001b[0m, The Grade of the Student is \u001b[1m'5.0'\u001b[0m\n",
      "The Student who got the highest Language Grade is \u001b[1m'Sean Bruso'\u001b[0m, The Grade of the Student is \u001b[1m'5.0'\u001b[0m\n",
      "The Student who got the highest Language Grade is \u001b[1m'Andrew Bishop'\u001b[0m, The Grade of the Student is \u001b[1m'5.0'\u001b[0m\n",
      "The Student who got the highest Language Grade is \u001b[1m'Baylen Cloutier'\u001b[0m, The Grade of the Student is \u001b[1m'5.0'\u001b[0m\n",
      "The Student who got the highest Language Grade is \u001b[1m'Billy Jack Bestle'\u001b[0m, The Grade of the Student is \u001b[1m'5.0'\u001b[0m\n",
      "The Student who got the highest Language Grade is \u001b[1m'Jonathan Nevarez'\u001b[0m, The Grade of the Student is \u001b[1m'5.0'\u001b[0m\n",
      "The Student who got the highest Language Grade is \u001b[1m'Roger Redfern'\u001b[0m, The Grade of the Student is \u001b[1m'5.0'\u001b[0m\n",
      "The Student who got the highest Language Grade is \u001b[1m'Joshua Mesan'\u001b[0m, The Grade of the Student is \u001b[1m'5.0'\u001b[0m\n",
      "The Student who got the highest Language Grade is \u001b[1m'Dylan Bell'\u001b[0m, The Grade of the Student is \u001b[1m'5.0'\u001b[0m\n",
      "The Student who got the highest Language Grade is \u001b[1m'Troy White'\u001b[0m, The Grade of the Student is \u001b[1m'5.0'\u001b[0m\n",
      "The Student who got the highest Language Grade is \u001b[1m'Grant Walden'\u001b[0m, The Grade of the Student is \u001b[1m'5.0'\u001b[0m\n",
      "The Student who got the highest Language Grade is \u001b[1m'Tyler Kibel'\u001b[0m, The Grade of the Student is \u001b[1m'5.0'\u001b[0m\n",
      "The Student who got the highest Language Grade is \u001b[1m'Kyler Overboe'\u001b[0m, The Grade of the Student is \u001b[1m'5.0'\u001b[0m\n",
      "The Student who got the highest Language Grade is \u001b[1m'Aaron Knott'\u001b[0m, The Grade of the Student is \u001b[1m'5.0'\u001b[0m\n",
      "The Student who got the highest Language Grade is \u001b[1m'Jesse Hodapp'\u001b[0m, The Grade of the Student is \u001b[1m'5.0'\u001b[0m\n",
      "The Student who got the highest Language Grade is \u001b[1m'Andrew Brunelli'\u001b[0m, The Grade of the Student is \u001b[1m'5.0'\u001b[0m\n",
      "The Student who got the highest Language Grade is \u001b[1m'Kyler Grieshaber'\u001b[0m, The Grade of the Student is \u001b[1m'5.0'\u001b[0m\n",
      "The Student who got the highest Language Grade is \u001b[1m'Jasper Stang'\u001b[0m, The Grade of the Student is \u001b[1m'5.0'\u001b[0m\n",
      "The Student who got the highest Language Grade is \u001b[1m'Anthony Visocsky'\u001b[0m, The Grade of the Student is \u001b[1m'5.0'\u001b[0m\n",
      "The Student who got the highest Language Grade is \u001b[1m'Jake Seime'\u001b[0m, The Grade of the Student is \u001b[1m'5.0'\u001b[0m\n",
      "The Student who got the highest Language Grade is \u001b[1m'Anthony Mcdevitt'\u001b[0m, The Grade of the Student is \u001b[1m'5.0'\u001b[0m\n",
      "The Student who got the highest Language Grade is \u001b[1m'Joseph Hazelton'\u001b[0m, The Grade of the Student is \u001b[1m'5.0'\u001b[0m\n",
      "The Student who got the highest Language Grade is \u001b[1m'Ryan Tyler'\u001b[0m, The Grade of the Student is \u001b[1m'5.0'\u001b[0m\n",
      "The Student who got the highest Language Grade is \u001b[1m'Thomas Chanlynn'\u001b[0m, The Grade of the Student is \u001b[1m'5.0'\u001b[0m\n",
      "The Student who got the highest Language Grade is \u001b[1m'Andrew Yelich'\u001b[0m, The Grade of the Student is \u001b[1m'5.0'\u001b[0m\n",
      "The Student who got the highest Language Grade is \u001b[1m'Matthew Strasburger'\u001b[0m, The Grade of the Student is \u001b[1m'5.0'\u001b[0m\n",
      "The Student who got the highest Language Grade is \u001b[1m'Tyler Goetz'\u001b[0m, The Grade of the Student is \u001b[1m'5.0'\u001b[0m\n",
      "The Student who got the highest Language Grade is \u001b[1m'Tyler Weller'\u001b[0m, The Grade of the Student is \u001b[1m'5.0'\u001b[0m\n",
      "The Student who got the highest Language Grade is \u001b[1m'Kyle Blanscet'\u001b[0m, The Grade of the Student is \u001b[1m'5.0'\u001b[0m\n",
      "The Student who got the highest Language Grade is \u001b[1m'Ronald Toth'\u001b[0m, The Grade of the Student is \u001b[1m'5.0'\u001b[0m\n",
      "The Student who got the highest Language Grade is \u001b[1m'Branden Cantrell'\u001b[0m, The Grade of the Student is \u001b[1m'5.0'\u001b[0m\n",
      "The Student who got the highest Language Grade is \u001b[1m'Ryan Russell'\u001b[0m, The Grade of the Student is \u001b[1m'5.0'\u001b[0m\n",
      "The Student who got the highest Language Grade is \u001b[1m'Logan Nighswonger'\u001b[0m, The Grade of the Student is \u001b[1m'5.0'\u001b[0m\n",
      "The Student who got the highest Language Grade is \u001b[1m'John Ferry'\u001b[0m, The Grade of the Student is \u001b[1m'5.0'\u001b[0m\n",
      "The Student who got the highest Language Grade is \u001b[1m'Ryan Heidebrecht'\u001b[0m, The Grade of the Student is \u001b[1m'5.0'\u001b[0m\n",
      "The Student who got the highest Language Grade is \u001b[1m'Garrett Heim'\u001b[0m, The Grade of the Student is \u001b[1m'5.0'\u001b[0m\n",
      "The Student who got the highest Language Grade is \u001b[1m'Cody Amen'\u001b[0m, The Grade of the Student is \u001b[1m'5.0'\u001b[0m\n",
      "The Student who got the highest Language Grade is \u001b[1m'William Tierney'\u001b[0m, The Grade of the Student is \u001b[1m'5.0'\u001b[0m\n",
      "The Student who got the highest Language Grade is \u001b[1m'Matthew Sputh'\u001b[0m, The Grade of the Student is \u001b[1m'5.0'\u001b[0m\n",
      "The Student who got the highest Language Grade is \u001b[1m'Blake Loughran'\u001b[0m, The Grade of the Student is \u001b[1m'5.0'\u001b[0m\n",
      "The Student who got the highest Language Grade is \u001b[1m'Michael Melendrez'\u001b[0m, The Grade of the Student is \u001b[1m'5.0'\u001b[0m\n",
      "The Student who got the highest Language Grade is \u001b[1m'Justin Krause'\u001b[0m, The Grade of the Student is \u001b[1m'5.0'\u001b[0m\n",
      "The Student who got the highest Language Grade is \u001b[1m'Dyllan Paige'\u001b[0m, The Grade of the Student is \u001b[1m'5.0'\u001b[0m\n",
      "The Student who got the highest Language Grade is \u001b[1m'Cole Hathcoat'\u001b[0m, The Grade of the Student is \u001b[1m'5.0'\u001b[0m\n",
      "The Student who got the highest Language Grade is \u001b[1m'Robert Podolski'\u001b[0m, The Grade of the Student is \u001b[1m'5.0'\u001b[0m\n",
      "The Student who got the highest Language Grade is \u001b[1m'Michael Griffin'\u001b[0m, The Grade of the Student is \u001b[1m'5.0'\u001b[0m\n",
      "The Student who got the highest Language Grade is \u001b[1m'Chad Klemp'\u001b[0m, The Grade of the Student is \u001b[1m'5.0'\u001b[0m\n",
      "The Student who got the highest Language Grade is \u001b[1m'Weldon Hightower'\u001b[0m, The Grade of the Student is \u001b[1m'5.0'\u001b[0m\n",
      "The Student who got the highest Language Grade is \u001b[1m'Daniel Pierce'\u001b[0m, The Grade of the Student is \u001b[1m'5.0'\u001b[0m\n",
      "The Student who got the highest Language Grade is \u001b[1m'Charles Prose'\u001b[0m, The Grade of the Student is \u001b[1m'5.0'\u001b[0m\n",
      "The Student who got the highest Language Grade is \u001b[1m'Matthew Obourn'\u001b[0m, The Grade of the Student is \u001b[1m'5.0'\u001b[0m\n",
      "The Student who got the highest Language Grade is \u001b[1m'Cody Smith'\u001b[0m, The Grade of the Student is \u001b[1m'5.0'\u001b[0m\n",
      "The Student who got the highest Language Grade is \u001b[1m'Nicolas Papp'\u001b[0m, The Grade of the Student is \u001b[1m'5.0'\u001b[0m\n",
      "The Student who got the highest Language Grade is \u001b[1m'Christopher Inhulsen'\u001b[0m, The Grade of the Student is \u001b[1m'5.0'\u001b[0m\n",
      "The Student who got the highest Language Grade is \u001b[1m'Austin Haas'\u001b[0m, The Grade of the Student is \u001b[1m'5.0'\u001b[0m\n",
      "The Student who got the highest Language Grade is \u001b[1m'Zachary Mulvahill'\u001b[0m, The Grade of the Student is \u001b[1m'5.0'\u001b[0m\n",
      "The Student who got the highest Language Grade is \u001b[1m'Dane Whittemore'\u001b[0m, The Grade of the Student is \u001b[1m'5.0'\u001b[0m\n"
     ]
    }
   ],
   "source": [
    "#The highest score in Language by a male student is \n",
    "top_lang = male['Language grade'].max()\n",
    "lang_male = male.loc[male['Language grade'] == top_lang, ['Name','Language grade']]\n",
    "li_lang = lang_male.values.tolist()\n",
    "for i in range(lang_male.shape[0]):\n",
    "    for j in range(lang_male.shape[1]):\n",
    "        if isinstance(li_lang[i][j], str):\n",
    "            print(f\"The Student who got the highest Language Grade is \\033[1m'{li_lang[i][j]}'\\033[0m, \", end ='')\n",
    "        else:\n",
    "            print(f\"The Grade of the Student is \\033[1m'{li_lang[i][j]}'\\033[0m\")"
   ]
  },
  {
   "cell_type": "code",
   "execution_count": 19,
   "metadata": {},
   "outputs": [
    {
     "name": "stdout",
     "output_type": "stream",
     "text": [
      "The Student who got the highest GPA is \u001b[1m'Jason Hundsdorfer'\u001b[0m, The Grade of the Student is \u001b[1m'4.2'\u001b[0m\n",
      "The Student who got the highest GPA is \u001b[1m'Michael Griffin'\u001b[0m, The Grade of the Student is \u001b[1m'4.2'\u001b[0m\n",
      "The Student who got the highest GPA is \u001b[1m'Matthew Obourn'\u001b[0m, The Grade of the Student is \u001b[1m'4.2'\u001b[0m\n"
     ]
    }
   ],
   "source": [
    "#The student with the highest overall gpa in female in male is\n",
    "top_gpa = male['GPA'].max()\n",
    "gpa_male = male.loc[male['GPA'] == top_gpa, ['Name','GPA']]\n",
    "li_gpa = gpa_male.values.tolist()\n",
    "for i in range(gpa_male.shape[0]):\n",
    "    for j in range(gpa_male.shape[1]):\n",
    "        if isinstance(li_gpa[i][j], str):\n",
    "            print(f\"The Student who got the highest GPA is \\033[1m'{li_gpa[i][j]}'\\033[0m, \", end ='')\n",
    "        else:\n",
    "            print(f\"The Grade of the Student is \\033[1m'{li_gpa[i][j]}'\\033[0m\")"
   ]
  },
  {
   "cell_type": "markdown",
   "metadata": {},
   "source": [
    "#### Female Student Analysis"
   ]
  },
  {
   "cell_type": "code",
   "execution_count": 20,
   "metadata": {},
   "outputs": [
    {
     "name": "stdout",
     "output_type": "stream",
     "text": [
      " There are \u001b[1m152\u001b[0m Female Students\n"
     ]
    }
   ],
   "source": [
    "#The Number of Female Students \n",
    "female = student_data[student_data['Gender'] == 'F']\n",
    "print(f' There are \\033[1m{len(female)}\\033[0m Female Students')"
   ]
  },
  {
   "cell_type": "code",
   "execution_count": 21,
   "metadata": {},
   "outputs": [
    {
     "data": {
      "text/html": [
       "<div>\n",
       "<style scoped>\n",
       "    .dataframe tbody tr th:only-of-type {\n",
       "        vertical-align: middle;\n",
       "    }\n",
       "\n",
       "    .dataframe tbody tr th {\n",
       "        vertical-align: top;\n",
       "    }\n",
       "\n",
       "    .dataframe thead th {\n",
       "        text-align: right;\n",
       "    }\n",
       "</style>\n",
       "<table border=\"1\" class=\"dataframe\">\n",
       "  <thead>\n",
       "    <tr style=\"text-align: right;\">\n",
       "      <th></th>\n",
       "      <th>Id</th>\n",
       "      <th>Name</th>\n",
       "      <th>Nationality</th>\n",
       "      <th>Gender</th>\n",
       "      <th>Age</th>\n",
       "      <th>English grade</th>\n",
       "      <th>Math grade</th>\n",
       "      <th>Sciences grade</th>\n",
       "      <th>Language grade</th>\n",
       "      <th>Portfolio Rating</th>\n",
       "      <th>GPA</th>\n",
       "    </tr>\n",
       "  </thead>\n",
       "  <tbody>\n",
       "    <tr>\n",
       "      <th>0</th>\n",
       "      <td>1</td>\n",
       "      <td>Kiana Lor</td>\n",
       "      <td>China</td>\n",
       "      <td>F</td>\n",
       "      <td>22.0</td>\n",
       "      <td>3.5</td>\n",
       "      <td>3.7</td>\n",
       "      <td>3.1</td>\n",
       "      <td>1.0</td>\n",
       "      <td>4.0</td>\n",
       "      <td>2.8</td>\n",
       "    </tr>\n",
       "    <tr>\n",
       "      <th>2</th>\n",
       "      <td>3</td>\n",
       "      <td>Dakota Blanco</td>\n",
       "      <td>United States of America</td>\n",
       "      <td>F</td>\n",
       "      <td>22.0</td>\n",
       "      <td>3.9</td>\n",
       "      <td>3.8</td>\n",
       "      <td>3.2</td>\n",
       "      <td>5.0</td>\n",
       "      <td>3.0</td>\n",
       "      <td>4.0</td>\n",
       "    </tr>\n",
       "    <tr>\n",
       "      <th>3</th>\n",
       "      <td>4</td>\n",
       "      <td>Natasha Yarusso</td>\n",
       "      <td>United States of America</td>\n",
       "      <td>F</td>\n",
       "      <td>20.0</td>\n",
       "      <td>3.3</td>\n",
       "      <td>2.8</td>\n",
       "      <td>3.2</td>\n",
       "      <td>5.0</td>\n",
       "      <td>5.0</td>\n",
       "      <td>3.6</td>\n",
       "    </tr>\n",
       "    <tr>\n",
       "      <th>4</th>\n",
       "      <td>5</td>\n",
       "      <td>Brooke Cazares</td>\n",
       "      <td>Brazil</td>\n",
       "      <td>F</td>\n",
       "      <td>21.0</td>\n",
       "      <td>3.7</td>\n",
       "      <td>2.6</td>\n",
       "      <td>3.4</td>\n",
       "      <td>1.0</td>\n",
       "      <td>4.0</td>\n",
       "      <td>2.7</td>\n",
       "    </tr>\n",
       "    <tr>\n",
       "      <th>5</th>\n",
       "      <td>6</td>\n",
       "      <td>Rochelle Johnson</td>\n",
       "      <td>United States of America</td>\n",
       "      <td>F</td>\n",
       "      <td>21.0</td>\n",
       "      <td>3.4</td>\n",
       "      <td>3.1</td>\n",
       "      <td>3.7</td>\n",
       "      <td>5.0</td>\n",
       "      <td>2.0</td>\n",
       "      <td>3.8</td>\n",
       "    </tr>\n",
       "  </tbody>\n",
       "</table>\n",
       "</div>"
      ],
      "text/plain": [
       "   Id              Name               Nationality Gender   Age  English grade  \\\n",
       "0   1         Kiana Lor                     China      F  22.0            3.5   \n",
       "2   3     Dakota Blanco  United States of America      F  22.0            3.9   \n",
       "3   4   Natasha Yarusso  United States of America      F  20.0            3.3   \n",
       "4   5    Brooke Cazares                    Brazil      F  21.0            3.7   \n",
       "5   6  Rochelle Johnson  United States of America      F  21.0            3.4   \n",
       "\n",
       "   Math grade  Sciences grade  Language grade  Portfolio Rating  GPA  \n",
       "0         3.7             3.1             1.0               4.0  2.8  \n",
       "2         3.8             3.2             5.0               3.0  4.0  \n",
       "3         2.8             3.2             5.0               5.0  3.6  \n",
       "4         2.6             3.4             1.0               4.0  2.7  \n",
       "5         3.1             3.7             5.0               2.0  3.8  "
      ]
     },
     "execution_count": 21,
     "metadata": {},
     "output_type": "execute_result"
    }
   ],
   "source": [
    "#First 5 rows in female dataframe\n",
    "female.head()"
   ]
  },
  {
   "cell_type": "code",
   "execution_count": 22,
   "metadata": {},
   "outputs": [
    {
     "name": "stdout",
     "output_type": "stream",
     "text": [
      "The Student who got the highest English Grade is \u001b[1m'Brittany Sath'\u001b[0m,The Grade of the Student is \u001b[1m'4.0'\u001b[0m\n",
      "The Student who got the highest English Grade is \u001b[1m'Gabrielle Smith'\u001b[0m,The Grade of the Student is \u001b[1m'4.0'\u001b[0m\n",
      "The Student who got the highest English Grade is \u001b[1m'Meghan Arnold'\u001b[0m,The Grade of the Student is \u001b[1m'4.0'\u001b[0m\n",
      "The Student who got the highest English Grade is \u001b[1m'Faviola Soto'\u001b[0m,The Grade of the Student is \u001b[1m'4.0'\u001b[0m\n",
      "The Student who got the highest English Grade is \u001b[1m'Addie Villavicencio'\u001b[0m,The Grade of the Student is \u001b[1m'4.0'\u001b[0m\n",
      "The Student who got the highest English Grade is \u001b[1m'Patricia Rockhold'\u001b[0m,The Grade of the Student is \u001b[1m'4.0'\u001b[0m\n",
      "The Student who got the highest English Grade is \u001b[1m'Katherine Beatty'\u001b[0m,The Grade of the Student is \u001b[1m'4.0'\u001b[0m\n",
      "The Student who got the highest English Grade is \u001b[1m'Rylee Onstott'\u001b[0m,The Grade of the Student is \u001b[1m'4.0'\u001b[0m\n",
      "The Student who got the highest English Grade is \u001b[1m'Vittoria Faulkner'\u001b[0m,The Grade of the Student is \u001b[1m'4.0'\u001b[0m\n"
     ]
    }
   ],
   "source": [
    "#The highest score in English by a female student is \n",
    "top_eng = female['English grade'].max()\n",
    "eng_female = female.loc[female['English grade'] == top_eng, ['Name','English grade']]\n",
    "li_eng = eng_female.values.tolist()\n",
    "for i in range(eng_female.shape[0]):\n",
    "    for j in range(eng_female.shape[1]):\n",
    "        if isinstance(li_eng[i][j], str):\n",
    "            print(f\"The Student who got the highest English Grade is \\033[1m'{li_eng[i][j]}'\\033[0m,\", end ='')\n",
    "        else:\n",
    "            print(f\"The Grade of the Student is \\033[1m'{li_eng[i][j]}'\\033[0m\")"
   ]
  },
  {
   "cell_type": "code",
   "execution_count": 23,
   "metadata": {},
   "outputs": [
    {
     "name": "stdout",
     "output_type": "stream",
     "text": [
      "The Student who got the highest Math Grade is \u001b[1m'Sasha Jansen'\u001b[0m,The Grade of the Student is \u001b[1m'4.0'\u001b[0m\n",
      "The Student who got the highest Math Grade is \u001b[1m'Katrina Saito'\u001b[0m,The Grade of the Student is \u001b[1m'4.0'\u001b[0m\n",
      "The Student who got the highest Math Grade is \u001b[1m'Marisa Ramey'\u001b[0m,The Grade of the Student is \u001b[1m'4.0'\u001b[0m\n",
      "The Student who got the highest Math Grade is \u001b[1m'Isabella Martinez'\u001b[0m,The Grade of the Student is \u001b[1m'4.0'\u001b[0m\n",
      "The Student who got the highest Math Grade is \u001b[1m'Tiffanie Her'\u001b[0m,The Grade of the Student is \u001b[1m'4.0'\u001b[0m\n",
      "The Student who got the highest Math Grade is \u001b[1m'Michaela Schoenbeck'\u001b[0m,The Grade of the Student is \u001b[1m'4.0'\u001b[0m\n"
     ]
    }
   ],
   "source": [
    "#The highest score in Math by a female student is \n",
    "top_math = female['Math grade'].max()\n",
    "math_female = female.loc[female['Math grade'] == top_math, ['Name','Math grade']]\n",
    "li_math = math_female.values.tolist()\n",
    "for i in range(math_female.shape[0]):\n",
    "    for j in range(math_female.shape[1]):\n",
    "        if isinstance(li_math[i][j], str):\n",
    "            print(f\"The Student who got the highest Math Grade is \\033[1m'{li_math[i][j]}'\\033[0m,\", end ='')\n",
    "        else:\n",
    "            print(f\"The Grade of the Student is \\033[1m'{li_math[i][j]}'\\033[0m\")"
   ]
  },
  {
   "cell_type": "code",
   "execution_count": 24,
   "metadata": {},
   "outputs": [
    {
     "name": "stdout",
     "output_type": "stream",
     "text": [
      "The Student who got the highest Science Grade is \u001b[1m'Victoria Ibarra'\u001b[0m, The Grade of the Student is \u001b[1m'4.0'\u001b[0m\n",
      "The Student who got the highest Science Grade is \u001b[1m'Nicole Humpal'\u001b[0m, The Grade of the Student is \u001b[1m'4.0'\u001b[0m\n",
      "The Student who got the highest Science Grade is \u001b[1m'Allison Brink-Lomme'\u001b[0m, The Grade of the Student is \u001b[1m'4.0'\u001b[0m\n",
      "The Student who got the highest Science Grade is \u001b[1m'Daisha Schmidt'\u001b[0m, The Grade of the Student is \u001b[1m'4.0'\u001b[0m\n",
      "The Student who got the highest Science Grade is \u001b[1m'Kaitlin Krueger'\u001b[0m, The Grade of the Student is \u001b[1m'4.0'\u001b[0m\n",
      "The Student who got the highest Science Grade is \u001b[1m'Rebecca Ah Fat'\u001b[0m, The Grade of the Student is \u001b[1m'4.0'\u001b[0m\n",
      "The Student who got the highest Science Grade is \u001b[1m'Chelsea Persky'\u001b[0m, The Grade of the Student is \u001b[1m'4.0'\u001b[0m\n",
      "The Student who got the highest Science Grade is \u001b[1m'Kayla Sales'\u001b[0m, The Grade of the Student is \u001b[1m'4.0'\u001b[0m\n",
      "The Student who got the highest Science Grade is \u001b[1m'Lexi Hatton'\u001b[0m, The Grade of the Student is \u001b[1m'4.0'\u001b[0m\n",
      "The Student who got the highest Science Grade is \u001b[1m'Dasha Bannock Lee'\u001b[0m, The Grade of the Student is \u001b[1m'4.0'\u001b[0m\n",
      "The Student who got the highest Science Grade is \u001b[1m'Madison Fithian'\u001b[0m, The Grade of the Student is \u001b[1m'4.0'\u001b[0m\n"
     ]
    }
   ],
   "source": [
    "#The highest score in Science by a female student is \n",
    "top_sci = female['Sciences grade'].max()\n",
    "sci_female = female.loc[female['Sciences grade'] == top_sci, ['Name','Sciences grade']]\n",
    "li_sci = sci_female.values.tolist()\n",
    "for i in range(sci_female.shape[0]):\n",
    "    for j in range(sci_female.shape[1]):\n",
    "        if isinstance(li_sci[i][j], str):\n",
    "            print(f\"The Student who got the highest Science Grade is \\033[1m'{li_sci[i][j]}'\\033[0m, \", end ='')\n",
    "        else:\n",
    "            print(f\"The Grade of the Student is \\033[1m'{li_sci[i][j]}'\\033[0m\")"
   ]
  },
  {
   "cell_type": "code",
   "execution_count": 25,
   "metadata": {},
   "outputs": [
    {
     "name": "stdout",
     "output_type": "stream",
     "text": [
      "The Student who got the highest Language Grade is \u001b[1m'Dakota Blanco'\u001b[0m, The Grade of the Student is \u001b[1m'5.0'\u001b[0m\n",
      "The Student who got the highest Language Grade is \u001b[1m'Natasha Yarusso'\u001b[0m, The Grade of the Student is \u001b[1m'5.0'\u001b[0m\n",
      "The Student who got the highest Language Grade is \u001b[1m'Rochelle Johnson'\u001b[0m, The Grade of the Student is \u001b[1m'5.0'\u001b[0m\n",
      "The Student who got the highest Language Grade is \u001b[1m'Maja Nicholson'\u001b[0m, The Grade of the Student is \u001b[1m'5.0'\u001b[0m\n",
      "The Student who got the highest Language Grade is \u001b[1m'Sasha Jansen'\u001b[0m, The Grade of the Student is \u001b[1m'5.0'\u001b[0m\n",
      "The Student who got the highest Language Grade is \u001b[1m'Meggan Smith'\u001b[0m, The Grade of the Student is \u001b[1m'5.0'\u001b[0m\n",
      "The Student who got the highest Language Grade is \u001b[1m'Rachel Jambor'\u001b[0m, The Grade of the Student is \u001b[1m'5.0'\u001b[0m\n",
      "The Student who got the highest Language Grade is \u001b[1m'Samantha Hicks'\u001b[0m, The Grade of the Student is \u001b[1m'5.0'\u001b[0m\n",
      "The Student who got the highest Language Grade is \u001b[1m'Angela Harding'\u001b[0m, The Grade of the Student is \u001b[1m'5.0'\u001b[0m\n",
      "The Student who got the highest Language Grade is \u001b[1m'Reilly Wagar'\u001b[0m, The Grade of the Student is \u001b[1m'5.0'\u001b[0m\n",
      "The Student who got the highest Language Grade is \u001b[1m'Dakota Wirth'\u001b[0m, The Grade of the Student is \u001b[1m'5.0'\u001b[0m\n",
      "The Student who got the highest Language Grade is \u001b[1m'Lauren Klocker'\u001b[0m, The Grade of the Student is \u001b[1m'5.0'\u001b[0m\n",
      "The Student who got the highest Language Grade is \u001b[1m'Sharon Fyfe'\u001b[0m, The Grade of the Student is \u001b[1m'5.0'\u001b[0m\n",
      "The Student who got the highest Language Grade is \u001b[1m'Tawnie Glaisher'\u001b[0m, The Grade of the Student is \u001b[1m'5.0'\u001b[0m\n",
      "The Student who got the highest Language Grade is \u001b[1m'Britany Stevens'\u001b[0m, The Grade of the Student is \u001b[1m'5.0'\u001b[0m\n",
      "The Student who got the highest Language Grade is \u001b[1m'Hannah Uren'\u001b[0m, The Grade of the Student is \u001b[1m'5.0'\u001b[0m\n",
      "The Student who got the highest Language Grade is \u001b[1m'Moira Buttitto'\u001b[0m, The Grade of the Student is \u001b[1m'5.0'\u001b[0m\n",
      "The Student who got the highest Language Grade is \u001b[1m'Nicole Humpal'\u001b[0m, The Grade of the Student is \u001b[1m'5.0'\u001b[0m\n",
      "The Student who got the highest Language Grade is \u001b[1m'Georgia Williams'\u001b[0m, The Grade of the Student is \u001b[1m'5.0'\u001b[0m\n",
      "The Student who got the highest Language Grade is \u001b[1m'Amanda Tatum'\u001b[0m, The Grade of the Student is \u001b[1m'5.0'\u001b[0m\n",
      "The Student who got the highest Language Grade is \u001b[1m'Katelyn Sharp'\u001b[0m, The Grade of the Student is \u001b[1m'5.0'\u001b[0m\n",
      "The Student who got the highest Language Grade is \u001b[1m'Macaela Kadillak'\u001b[0m, The Grade of the Student is \u001b[1m'5.0'\u001b[0m\n",
      "The Student who got the highest Language Grade is \u001b[1m'Brittany Pratt'\u001b[0m, The Grade of the Student is \u001b[1m'5.0'\u001b[0m\n",
      "The Student who got the highest Language Grade is \u001b[1m'Lindsey Job'\u001b[0m, The Grade of the Student is \u001b[1m'5.0'\u001b[0m\n",
      "The Student who got the highest Language Grade is \u001b[1m'Allison Brink-Lomme'\u001b[0m, The Grade of the Student is \u001b[1m'5.0'\u001b[0m\n",
      "The Student who got the highest Language Grade is \u001b[1m'Aurelia Davis Ingham'\u001b[0m, The Grade of the Student is \u001b[1m'5.0'\u001b[0m\n",
      "The Student who got the highest Language Grade is \u001b[1m'Taylor Elstun'\u001b[0m, The Grade of the Student is \u001b[1m'5.0'\u001b[0m\n",
      "The Student who got the highest Language Grade is \u001b[1m'Alexandra Levy'\u001b[0m, The Grade of the Student is \u001b[1m'5.0'\u001b[0m\n",
      "The Student who got the highest Language Grade is \u001b[1m'Harper Wheeler-Marques'\u001b[0m, The Grade of the Student is \u001b[1m'5.0'\u001b[0m\n",
      "The Student who got the highest Language Grade is \u001b[1m'Lindsey Freund'\u001b[0m, The Grade of the Student is \u001b[1m'5.0'\u001b[0m\n",
      "The Student who got the highest Language Grade is \u001b[1m'Savannah Clark'\u001b[0m, The Grade of the Student is \u001b[1m'5.0'\u001b[0m\n",
      "The Student who got the highest Language Grade is \u001b[1m'Daisha Schmidt'\u001b[0m, The Grade of the Student is \u001b[1m'5.0'\u001b[0m\n",
      "The Student who got the highest Language Grade is \u001b[1m'Airabella Koontz'\u001b[0m, The Grade of the Student is \u001b[1m'5.0'\u001b[0m\n",
      "The Student who got the highest Language Grade is \u001b[1m'Rachel Bakeman'\u001b[0m, The Grade of the Student is \u001b[1m'5.0'\u001b[0m\n",
      "The Student who got the highest Language Grade is \u001b[1m'Lindsey Carter'\u001b[0m, The Grade of the Student is \u001b[1m'5.0'\u001b[0m\n",
      "The Student who got the highest Language Grade is \u001b[1m'Aimee Apelyan'\u001b[0m, The Grade of the Student is \u001b[1m'5.0'\u001b[0m\n",
      "The Student who got the highest Language Grade is \u001b[1m'Maryah Falloon'\u001b[0m, The Grade of the Student is \u001b[1m'5.0'\u001b[0m\n",
      "The Student who got the highest Language Grade is \u001b[1m'Lucille Mitchell'\u001b[0m, The Grade of the Student is \u001b[1m'5.0'\u001b[0m\n",
      "The Student who got the highest Language Grade is \u001b[1m'Brandilyn Collins'\u001b[0m, The Grade of the Student is \u001b[1m'5.0'\u001b[0m\n",
      "The Student who got the highest Language Grade is \u001b[1m'Magdalynne Noah'\u001b[0m, The Grade of the Student is \u001b[1m'5.0'\u001b[0m\n",
      "The Student who got the highest Language Grade is \u001b[1m'Megan Salamena'\u001b[0m, The Grade of the Student is \u001b[1m'5.0'\u001b[0m\n",
      "The Student who got the highest Language Grade is \u001b[1m'Alexandra Graham'\u001b[0m, The Grade of the Student is \u001b[1m'5.0'\u001b[0m\n",
      "The Student who got the highest Language Grade is \u001b[1m'Shauna Sneed'\u001b[0m, The Grade of the Student is \u001b[1m'5.0'\u001b[0m\n",
      "The Student who got the highest Language Grade is \u001b[1m'Caitlin Dean'\u001b[0m, The Grade of the Student is \u001b[1m'5.0'\u001b[0m\n",
      "The Student who got the highest Language Grade is \u001b[1m'Emily Warner'\u001b[0m, The Grade of the Student is \u001b[1m'5.0'\u001b[0m\n",
      "The Student who got the highest Language Grade is \u001b[1m'Mckenzie Haycock'\u001b[0m, The Grade of the Student is \u001b[1m'5.0'\u001b[0m\n",
      "The Student who got the highest Language Grade is \u001b[1m'Alexandria Fortner'\u001b[0m, The Grade of the Student is \u001b[1m'5.0'\u001b[0m\n",
      "The Student who got the highest Language Grade is \u001b[1m'Savannah Kivett'\u001b[0m, The Grade of the Student is \u001b[1m'5.0'\u001b[0m\n",
      "The Student who got the highest Language Grade is \u001b[1m'Juhaina al-Bilal'\u001b[0m, The Grade of the Student is \u001b[1m'5.0'\u001b[0m\n",
      "The Student who got the highest Language Grade is \u001b[1m'Siena Ingram'\u001b[0m, The Grade of the Student is \u001b[1m'5.0'\u001b[0m\n",
      "The Student who got the highest Language Grade is \u001b[1m'Jenna Whitney'\u001b[0m, The Grade of the Student is \u001b[1m'5.0'\u001b[0m\n",
      "The Student who got the highest Language Grade is \u001b[1m'Kaitlin Krueger'\u001b[0m, The Grade of the Student is \u001b[1m'5.0'\u001b[0m\n",
      "The Student who got the highest Language Grade is \u001b[1m'Jaime Mikesell'\u001b[0m, The Grade of the Student is \u001b[1m'5.0'\u001b[0m\n",
      "The Student who got the highest Language Grade is \u001b[1m'Katelynn Andrie'\u001b[0m, The Grade of the Student is \u001b[1m'5.0'\u001b[0m\n",
      "The Student who got the highest Language Grade is \u001b[1m'Maryn Manzanares'\u001b[0m, The Grade of the Student is \u001b[1m'5.0'\u001b[0m\n",
      "The Student who got the highest Language Grade is \u001b[1m'Colleen Kohout'\u001b[0m, The Grade of the Student is \u001b[1m'5.0'\u001b[0m\n",
      "The Student who got the highest Language Grade is \u001b[1m'Jordan Burkhamer'\u001b[0m, The Grade of the Student is \u001b[1m'5.0'\u001b[0m\n",
      "The Student who got the highest Language Grade is \u001b[1m'Dalen Whiting'\u001b[0m, The Grade of the Student is \u001b[1m'5.0'\u001b[0m\n",
      "The Student who got the highest Language Grade is \u001b[1m'Chelsea Persky'\u001b[0m, The Grade of the Student is \u001b[1m'5.0'\u001b[0m\n",
      "The Student who got the highest Language Grade is \u001b[1m'Addie Villavicencio'\u001b[0m, The Grade of the Student is \u001b[1m'5.0'\u001b[0m\n",
      "The Student who got the highest Language Grade is \u001b[1m'Kimberly Thielke'\u001b[0m, The Grade of the Student is \u001b[1m'5.0'\u001b[0m\n",
      "The Student who got the highest Language Grade is \u001b[1m'Kayla Sales'\u001b[0m, The Grade of the Student is \u001b[1m'5.0'\u001b[0m\n",
      "The Student who got the highest Language Grade is \u001b[1m'Hannah Critchfield'\u001b[0m, The Grade of the Student is \u001b[1m'5.0'\u001b[0m\n",
      "The Student who got the highest Language Grade is \u001b[1m'Jessica Greenberg'\u001b[0m, The Grade of the Student is \u001b[1m'5.0'\u001b[0m\n",
      "The Student who got the highest Language Grade is \u001b[1m'Lexi Hatton'\u001b[0m, The Grade of the Student is \u001b[1m'5.0'\u001b[0m\n",
      "The Student who got the highest Language Grade is \u001b[1m'Makenzie Swann'\u001b[0m, The Grade of the Student is \u001b[1m'5.0'\u001b[0m\n",
      "The Student who got the highest Language Grade is \u001b[1m'Emma Casias'\u001b[0m, The Grade of the Student is \u001b[1m'5.0'\u001b[0m\n",
      "The Student who got the highest Language Grade is \u001b[1m'Holly Marshall'\u001b[0m, The Grade of the Student is \u001b[1m'5.0'\u001b[0m\n",
      "The Student who got the highest Language Grade is \u001b[1m'Dasha Bannock Lee'\u001b[0m, The Grade of the Student is \u001b[1m'5.0'\u001b[0m\n",
      "The Student who got the highest Language Grade is \u001b[1m'Darby Focken'\u001b[0m, The Grade of the Student is \u001b[1m'5.0'\u001b[0m\n",
      "The Student who got the highest Language Grade is \u001b[1m'Patricia Rockhold'\u001b[0m, The Grade of the Student is \u001b[1m'5.0'\u001b[0m\n",
      "The Student who got the highest Language Grade is \u001b[1m'Kylie Schafer'\u001b[0m, The Grade of the Student is \u001b[1m'5.0'\u001b[0m\n",
      "The Student who got the highest Language Grade is \u001b[1m'Katherine Beatty'\u001b[0m, The Grade of the Student is \u001b[1m'5.0'\u001b[0m\n",
      "The Student who got the highest Language Grade is \u001b[1m'Melissa Bickel'\u001b[0m, The Grade of the Student is \u001b[1m'5.0'\u001b[0m\n",
      "The Student who got the highest Language Grade is \u001b[1m'Rachel Boh'\u001b[0m, The Grade of the Student is \u001b[1m'5.0'\u001b[0m\n",
      "The Student who got the highest Language Grade is \u001b[1m'Haley Ingrim-Hyrup'\u001b[0m, The Grade of the Student is \u001b[1m'5.0'\u001b[0m\n",
      "The Student who got the highest Language Grade is \u001b[1m'Kayla Sandefur'\u001b[0m, The Grade of the Student is \u001b[1m'5.0'\u001b[0m\n",
      "The Student who got the highest Language Grade is \u001b[1m'Rylee Onstott'\u001b[0m, The Grade of the Student is \u001b[1m'5.0'\u001b[0m\n",
      "The Student who got the highest Language Grade is \u001b[1m'Kelli De Bartolome'\u001b[0m, The Grade of the Student is \u001b[1m'5.0'\u001b[0m\n",
      "The Student who got the highest Language Grade is \u001b[1m'Vittoria Faulkner'\u001b[0m, The Grade of the Student is \u001b[1m'5.0'\u001b[0m\n",
      "The Student who got the highest Language Grade is \u001b[1m'Terri Mergelman'\u001b[0m, The Grade of the Student is \u001b[1m'5.0'\u001b[0m\n",
      "The Student who got the highest Language Grade is \u001b[1m'Abigail Orgeron'\u001b[0m, The Grade of the Student is \u001b[1m'5.0'\u001b[0m\n",
      "The Student who got the highest Language Grade is \u001b[1m'Hannah Ratterman'\u001b[0m, The Grade of the Student is \u001b[1m'5.0'\u001b[0m\n",
      "The Student who got the highest Language Grade is \u001b[1m'Alexandria Winter'\u001b[0m, The Grade of the Student is \u001b[1m'5.0'\u001b[0m\n",
      "The Student who got the highest Language Grade is \u001b[1m'Madeline Kremke'\u001b[0m, The Grade of the Student is \u001b[1m'5.0'\u001b[0m\n",
      "The Student who got the highest Language Grade is \u001b[1m'Michelle Goldanloo'\u001b[0m, The Grade of the Student is \u001b[1m'5.0'\u001b[0m\n",
      "The Student who got the highest Language Grade is \u001b[1m'Taylor Stone'\u001b[0m, The Grade of the Student is \u001b[1m'5.0'\u001b[0m\n",
      "The Student who got the highest Language Grade is \u001b[1m'Melody Bowyer'\u001b[0m, The Grade of the Student is \u001b[1m'5.0'\u001b[0m\n",
      "The Student who got the highest Language Grade is \u001b[1m'Brenna Chapman'\u001b[0m, The Grade of the Student is \u001b[1m'5.0'\u001b[0m\n",
      "The Student who got the highest Language Grade is \u001b[1m'Katie Abercrombie'\u001b[0m, The Grade of the Student is \u001b[1m'5.0'\u001b[0m\n",
      "The Student who got the highest Language Grade is \u001b[1m'Jennifer Hauge'\u001b[0m, The Grade of the Student is \u001b[1m'5.0'\u001b[0m\n",
      "The Student who got the highest Language Grade is \u001b[1m'Michaela Schoenbeck'\u001b[0m, The Grade of the Student is \u001b[1m'5.0'\u001b[0m\n",
      "The Student who got the highest Language Grade is \u001b[1m'Brittany Kemmerzell'\u001b[0m, The Grade of the Student is \u001b[1m'5.0'\u001b[0m\n",
      "The Student who got the highest Language Grade is \u001b[1m'Taryn Springfield'\u001b[0m, The Grade of the Student is \u001b[1m'5.0'\u001b[0m\n",
      "The Student who got the highest Language Grade is \u001b[1m'Tessa Rawanduzy'\u001b[0m, The Grade of the Student is \u001b[1m'5.0'\u001b[0m\n",
      "The Student who got the highest Language Grade is \u001b[1m'Madison Fithian'\u001b[0m, The Grade of the Student is \u001b[1m'5.0'\u001b[0m\n",
      "The Student who got the highest Language Grade is \u001b[1m'Eliana Michelsen'\u001b[0m, The Grade of the Student is \u001b[1m'5.0'\u001b[0m\n"
     ]
    }
   ],
   "source": [
    "#The highest score in Language by a female student is \n",
    "top_lang = female['Language grade'].max()\n",
    "lang_female = female.loc[female['Language grade'] == top_lang, ['Name','Language grade']]\n",
    "li_lang = lang_female.values.tolist()\n",
    "for i in range(lang_female.shape[0]):\n",
    "    for j in range(lang_female.shape[1]):\n",
    "        if isinstance(li_lang[i][j], str):\n",
    "            print(f\"The Student who got the highest Language Grade is \\033[1m'{li_lang[i][j]}'\\033[0m, \", end ='')\n",
    "        else:\n",
    "            print(f\"The Grade of the Student is \\033[1m'{li_lang[i][j]}'\\033[0m\")"
   ]
  },
  {
   "cell_type": "code",
   "execution_count": 26,
   "metadata": {},
   "outputs": [
    {
     "name": "stdout",
     "output_type": "stream",
     "text": [
      "The Student who got the highest GPA is \u001b[1m'Nicole Humpal'\u001b[0m, The Grade of the Student is \u001b[1m'4.2'\u001b[0m\n",
      "The Student who got the highest GPA is \u001b[1m'Daisha Schmidt'\u001b[0m, The Grade of the Student is \u001b[1m'4.2'\u001b[0m\n",
      "The Student who got the highest GPA is \u001b[1m'Juhaina al-Bilal'\u001b[0m, The Grade of the Student is \u001b[1m'4.2'\u001b[0m\n",
      "The Student who got the highest GPA is \u001b[1m'Kaitlin Krueger'\u001b[0m, The Grade of the Student is \u001b[1m'4.2'\u001b[0m\n",
      "The Student who got the highest GPA is \u001b[1m'Rylee Onstott'\u001b[0m, The Grade of the Student is \u001b[1m'4.2'\u001b[0m\n"
     ]
    }
   ],
   "source": [
    "#The student with the highest overall gpa in female is\n",
    "top_gpa = female['GPA'].max()\n",
    "gpa_female = female.loc[female['GPA'] == top_gpa, ['Name','GPA']]\n",
    "li_gpa = gpa_female.values.tolist()\n",
    "for i in range(gpa_female.shape[0]):\n",
    "    for j in range(gpa_female.shape[1]):\n",
    "        if isinstance(li_gpa[i][j], str):\n",
    "            print(f\"The Student who got the highest GPA is \\033[1m'{li_gpa[i][j]}'\\033[0m, \", end ='')\n",
    "        else:\n",
    "            print(f\"The Grade of the Student is \\033[1m'{li_gpa[i][j]}'\\033[0m\")"
   ]
  },
  {
   "cell_type": "markdown",
   "metadata": {},
   "source": [
    "## Top GPA"
   ]
  },
  {
   "cell_type": "code",
   "execution_count": 27,
   "metadata": {},
   "outputs": [
    {
     "name": "stdout",
     "output_type": "stream",
     "text": [
      "The Student who got the highest GPA is \u001b[1m'Nicole Humpal'\u001b[0m, The Grade of the Student is \u001b[1m'4.2'\u001b[0m\n",
      "The Student who got the highest GPA is \u001b[1m'Daisha Schmidt'\u001b[0m, The Grade of the Student is \u001b[1m'4.2'\u001b[0m\n",
      "The Student who got the highest GPA is \u001b[1m'Jason Hundsdorfer'\u001b[0m, The Grade of the Student is \u001b[1m'4.2'\u001b[0m\n",
      "The Student who got the highest GPA is \u001b[1m'Juhaina al-Bilal'\u001b[0m, The Grade of the Student is \u001b[1m'4.2'\u001b[0m\n",
      "The Student who got the highest GPA is \u001b[1m'Kaitlin Krueger'\u001b[0m, The Grade of the Student is \u001b[1m'4.2'\u001b[0m\n",
      "The Student who got the highest GPA is \u001b[1m'Rylee Onstott'\u001b[0m, The Grade of the Student is \u001b[1m'4.2'\u001b[0m\n",
      "The Student who got the highest GPA is \u001b[1m'Michael Griffin'\u001b[0m, The Grade of the Student is \u001b[1m'4.2'\u001b[0m\n",
      "The Student who got the highest GPA is \u001b[1m'Matthew Obourn'\u001b[0m, The Grade of the Student is \u001b[1m'4.2'\u001b[0m\n"
     ]
    }
   ],
   "source": [
    "#The student with the highest overall gpa is\n",
    "top_gpa = student_data['GPA'].max()\n",
    "gpa = student_data.loc[student_data['GPA'] == top_gpa, ['Name','GPA']]\n",
    "li_gpa = gpa.values.tolist()\n",
    "for i in range(gpa.shape[0]):\n",
    "    for j in range(gpa.shape[1]):\n",
    "        if isinstance(li_gpa[i][j], str):\n",
    "            print(f\"The Student who got the highest GPA is \\033[1m'{li_gpa[i][j]}'\\033[0m, \", end ='')\n",
    "        else:\n",
    "            print(f\"The Grade of the Student is \\033[1m'{li_gpa[i][j]}'\\033[0m\")"
   ]
  },
  {
   "cell_type": "markdown",
   "metadata": {},
   "source": [
    "These 8 students are the Top Performers on overall subjects"
   ]
  },
  {
   "cell_type": "markdown",
   "metadata": {},
   "source": [
    "## Visualizations"
   ]
  },
  {
   "cell_type": "markdown",
   "metadata": {},
   "source": [
    "Pie Chart for Gender Distribution"
   ]
  },
  {
   "cell_type": "code",
   "execution_count": 44,
   "metadata": {},
   "outputs": [
    {
     "data": {
      "image/png": "[encoded data removed]",
      "text/plain": [
       "<Figure size 600x600 with 1 Axes>"
      ]
     },
     "metadata": {},
     "output_type": "display_data"
    }
   ],
   "source": [
    "# Pie chart of gender distribution\n",
    "gender_counts = student_data['Gender'].value_counts()\n",
    "plt.figure(figsize=(6, 6))\n",
    "plt.pie(gender_counts, labels=gender_counts.index, autopct='%1.1f%%', startangle=90)\n",
    "plt.title('Gender Distribution')\n",
    "plt.show()"
   ]
  },
  {
   "cell_type": "markdown",
   "metadata": {},
   "source": [
    "The Distribution of Female is high"
   ]
  },
  {
   "cell_type": "markdown",
   "metadata": {},
   "source": [
    "Bar Chart to visualize the Average Grade by Nationality"
   ]
  },
  {
   "cell_type": "code",
   "execution_count": 36,
   "metadata": {},
   "outputs": [
    {
     "data": {
      "image/png": "[encoded data removed]",
      "text/plain": [
       "<Figure size 1000x600 with 1 Axes>"
      ]
     },
     "metadata": {},
     "output_type": "display_data"
    }
   ],
   "source": [
    "avg_grades_nationality = student_data.groupby('Nationality')[['English grade', 'Math grade', 'Sciences grade', 'Language grade']].mean()\n",
    "avg_grades_nationality.plot(kind='bar', figsize=(10, 6))\n",
    "plt.title('Average Grades by Nationality')\n",
    "plt.xlabel('Nationality')\n",
    "plt.ylabel('Average Grade')\n",
    "plt.xticks(rotation=90)\n",
    "plt.legend(title='Subject')\n",
    "plt.show()"
   ]
  },
  {
   "cell_type": "markdown",
   "metadata": {},
   "source": [
    "The Language Grades is highest in USA, UK, Canada, Bangladesh."
   ]
  },
  {
   "cell_type": "code",
   "execution_count": 37,
   "metadata": {},
   "outputs": [
    {
     "data": {
      "image/png": "[encoded data removed]",
      "text/plain": [
       "<Figure size 800x500 with 1 Axes>"
      ]
     },
     "metadata": {},
     "output_type": "display_data"
    }
   ],
   "source": [
    "# Histogram of ages\n",
    "plt.figure(figsize=(8, 5))\n",
    "plt.hist(student_data['Age'], bins=10, edgecolor='black')\n",
    "plt.title('Distribution of Ages')\n",
    "plt.xlabel('Age')\n",
    "plt.ylabel('Frequency')\n",
    "plt.show()"
   ]
  },
  {
   "cell_type": "markdown",
   "metadata": {},
   "source": [
    "Correlation"
   ]
  },
  {
   "cell_type": "code",
   "execution_count": 39,
   "metadata": {},
   "outputs": [
    {
     "data": {
      "image/png": "[encoded data removed]",
      "text/plain": [
       "<Figure size 800x600 with 2 Axes>"
      ]
     },
     "metadata": {},
     "output_type": "display_data"
    }
   ],
   "source": [
    "corr_matrix = student_data[['English grade', 'Math grade', 'Sciences grade', 'Language grade']].corr()\n",
    "plt.figure(figsize=(8, 6))\n",
    "sns.heatmap(corr_matrix, annot=True, cmap='coolwarm', fmt=\".2f\")\n",
    "plt.title('Correlation Matrix')\n",
    "plt.show()"
   ]
  },
  {
   "cell_type": "markdown",
   "metadata": {},
   "source": [
    "No Correlation between grades"
   ]
  },
  {
   "cell_type": "code",
   "execution_count": null,
   "metadata": {},
   "outputs": [],
   "source": []
  }
 ],
 "metadata": {
  "kernelspec": {
   "display_name": "Python 3",
   "language": "python",
   "name": "python3"
  },
  "language_info": {
   "codemirror_mode": {
    "name": "ipython",
    "version": 3
   },
   "file_extension": ".py",
   "mimetype": "text/x-python",
   "name": "python",
   "nbconvert_exporter": "python",
   "pygments_lexer": "ipython3",
   "version": "3.11.5"
  }
 },
 "nbformat": 4,
 "nbformat_minor": 2
}
